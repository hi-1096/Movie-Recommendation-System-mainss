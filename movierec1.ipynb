{
 "cells": [
  {
   "cell_type": "code",
   "execution_count": 71,
   "metadata": {
    "id": "QLV3efzymiST",
    "ExecuteTime": {
     "end_time": "2023-07-03T14:34:18.852307400Z",
     "start_time": "2023-07-03T14:34:18.615658600Z"
    }
   },
   "outputs": [],
   "source": [
    "#import numpy as np\n",
    "#import matplotlib.pyplot as plt\n",
    "#from ipywidgets import interactive\n",
    "#%matplotlib inline\n"
   ]
  },
  {
   "cell_type": "code",
   "execution_count": 72,
   "metadata": {
    "colab": {
     "base_uri": "https://localhost:8080/"
    },
    "id": "0E78qYNUT-Ij",
    "outputId": "c71efcef-71c0-4c20-b80f-d58b110d144e",
    "ExecuteTime": {
     "end_time": "2023-07-03T14:34:19.164296700Z",
     "start_time": "2023-07-03T14:34:18.638203500Z"
    }
   },
   "outputs": [],
   "source": [
    "#from google.colab import drive\n",
    "#drive.mount('/content/drive')"
   ]
  },
  {
   "cell_type": "code",
   "execution_count": 73,
   "metadata": {
    "colab": {
     "base_uri": "https://localhost:8080/"
    },
    "id": "k3_jWX0A5qG6",
    "outputId": "549b4df5-e612-441f-a0fa-b620e8287914",
    "ExecuteTime": {
     "end_time": "2023-07-03T14:34:24.623963900Z",
     "start_time": "2023-07-03T14:34:18.656259200Z"
    }
   },
   "outputs": [],
   "source": [
    "!pip install streamlit -q"
   ]
  },
  {
   "cell_type": "code",
   "execution_count": 74,
   "metadata": {
    "id": "v_UD_Huw50oq",
    "ExecuteTime": {
     "end_time": "2023-07-03T14:34:24.636902500Z",
     "start_time": "2023-07-03T14:34:24.630686300Z"
    }
   },
   "outputs": [],
   "source": [
    "import streamlit as sl"
   ]
  },
  {
   "cell_type": "code",
   "execution_count": 74,
   "metadata": {
    "id": "vxXvV-uh6bvz",
    "ExecuteTime": {
     "end_time": "2023-07-03T14:34:24.643956400Z",
     "start_time": "2023-07-03T14:34:24.638931200Z"
    }
   },
   "outputs": [],
   "source": []
  },
  {
   "cell_type": "code",
   "execution_count": 75,
   "metadata": {
    "id": "gZr202Ernb3n",
    "ExecuteTime": {
     "end_time": "2023-07-03T14:34:24.652850800Z",
     "start_time": "2023-07-03T14:34:24.644954900Z"
    }
   },
   "outputs": [],
   "source": [
    "\n",
    "import pandas as pd\n",
    "import numpy as np\n",
    "import csv"
   ]
  },
  {
   "cell_type": "code",
   "execution_count": 76,
   "metadata": {
    "id": "_EB_Z2btndka",
    "ExecuteTime": {
     "end_time": "2023-07-03T14:34:25.046099100Z",
     "start_time": "2023-07-03T14:34:24.659152600Z"
    }
   },
   "outputs": [],
   "source": [
    "\n",
    "movies=pd.read_csv(\"movie.csv\")"
   ]
  },
  {
   "cell_type": "code",
   "execution_count": 77,
   "metadata": {
    "colab": {
     "base_uri": "https://localhost:8080/",
     "height": 1000
    },
    "id": "I4XZtQ-TneSk",
    "outputId": "56362dc3-6afb-4992-d94c-6444be0311b5",
    "ExecuteTime": {
     "end_time": "2023-07-03T14:34:25.124977Z",
     "start_time": "2023-07-03T14:34:25.046595800Z"
    }
   },
   "outputs": [
    {
     "data": {
      "text/plain": "    movie_id     budget                                             genres  \\\n0      19995  237000000  [{\"id\": 28, \"name\": \"Action\"}, {\"id\": 12, \"nam...   \n1        285  300000000  [{\"id\": 12, \"name\": \"Adventure\"}, {\"id\": 14, \"...   \n2     206647  245000000  [{\"id\": 28, \"name\": \"Action\"}, {\"id\": 12, \"nam...   \n3      49026  250000000  [{\"id\": 28, \"name\": \"Action\"}, {\"id\": 80, \"nam...   \n4      49529  260000000  [{\"id\": 28, \"name\": \"Action\"}, {\"id\": 12, \"nam...   \n5        559  258000000  [{\"id\": 14, \"name\": \"Fantasy\"}, {\"id\": 28, \"na...   \n6      38757  260000000  [{\"id\": 16, \"name\": \"Animation\"}, {\"id\": 10751...   \n7      99861  280000000  [{\"id\": 28, \"name\": \"Action\"}, {\"id\": 12, \"nam...   \n8        767  250000000  [{\"id\": 12, \"name\": \"Adventure\"}, {\"id\": 14, \"...   \n9     209112  250000000  [{\"id\": 28, \"name\": \"Action\"}, {\"id\": 12, \"nam...   \n10      1452  270000000  [{\"id\": 12, \"name\": \"Adventure\"}, {\"id\": 14, \"...   \n11     10764  200000000  [{\"id\": 12, \"name\": \"Adventure\"}, {\"id\": 28, \"...   \n12        58  200000000  [{\"id\": 12, \"name\": \"Adventure\"}, {\"id\": 14, \"...   \n13     57201  255000000  [{\"id\": 28, \"name\": \"Action\"}, {\"id\": 12, \"nam...   \n14     49521  225000000  [{\"id\": 28, \"name\": \"Action\"}, {\"id\": 12, \"nam...   \n15      2454  225000000  [{\"id\": 12, \"name\": \"Adventure\"}, {\"id\": 10751...   \n16     24428  220000000  [{\"id\": 878, \"name\": \"Science Fiction\"}, {\"id\"...   \n17      1865  380000000  [{\"id\": 12, \"name\": \"Adventure\"}, {\"id\": 28, \"...   \n18     41154  225000000  [{\"id\": 28, \"name\": \"Action\"}, {\"id\": 35, \"nam...   \n19    122917  250000000  [{\"id\": 28, \"name\": \"Action\"}, {\"id\": 12, \"nam...   \n20      1930  215000000  [{\"id\": 28, \"name\": \"Action\"}, {\"id\": 12, \"nam...   \n21     20662  200000000  [{\"id\": 28, \"name\": \"Action\"}, {\"id\": 12, \"nam...   \n22     57158  250000000  [{\"id\": 12, \"name\": \"Adventure\"}, {\"id\": 14, \"...   \n23      2268  180000000  [{\"id\": 12, \"name\": \"Adventure\"}, {\"id\": 14, \"...   \n24       254  207000000  [{\"id\": 12, \"name\": \"Adventure\"}, {\"id\": 18, \"...   \n25       597  200000000  [{\"id\": 18, \"name\": \"Drama\"}, {\"id\": 10749, \"n...   \n26    271110  250000000  [{\"id\": 12, \"name\": \"Adventure\"}, {\"id\": 28, \"...   \n27     44833  209000000  [{\"id\": 53, \"name\": \"Thriller\"}, {\"id\": 28, \"n...   \n28    135397  150000000  [{\"id\": 28, \"name\": \"Action\"}, {\"id\": 12, \"nam...   \n29     37724  200000000  [{\"id\": 28, \"name\": \"Action\"}, {\"id\": 12, \"nam...   \n30       558  200000000  [{\"id\": 28, \"name\": \"Action\"}, {\"id\": 12, \"nam...   \n31     68721  200000000  [{\"id\": 28, \"name\": \"Action\"}, {\"id\": 12, \"nam...   \n32     12155  200000000  [{\"id\": 10751, \"name\": \"Family\"}, {\"id\": 14, \"...   \n33     36668  210000000  [{\"id\": 12, \"name\": \"Adventure\"}, {\"id\": 28, \"...   \n34     62211  200000000  [{\"id\": 16, \"name\": \"Animation\"}, {\"id\": 10751...   \n35      8373  150000000  [{\"id\": 878, \"name\": \"Science Fiction\"}, {\"id\"...   \n36     91314  210000000  [{\"id\": 878, \"name\": \"Science Fiction\"}, {\"id\"...   \n37     68728  200000000  [{\"id\": 14, \"name\": \"Fantasy\"}, {\"id\": 12, \"na...   \n38    102382  200000000  [{\"id\": 28, \"name\": \"Action\"}, {\"id\": 12, \"nam...   \n39     20526  170000000  [{\"id\": 12, \"name\": \"Adventure\"}, {\"id\": 28, \"...   \n40     49013  200000000  [{\"id\": 16, \"name\": \"Animation\"}, {\"id\": 10751...   \n41     44912  200000000  [{\"id\": 12, \"name\": \"Adventure\"}, {\"id\": 28, \"...   \n42     10193  200000000  [{\"id\": 16, \"name\": \"Animation\"}, {\"id\": 10751...   \n43       534  200000000  [{\"id\": 28, \"name\": \"Action\"}, {\"id\": 878, \"na...   \n44    168259  190000000                     [{\"id\": 28, \"name\": \"Action\"}]   \n45     72190  200000000  [{\"id\": 28, \"name\": \"Action\"}, {\"id\": 18, \"nam...   \n46    127585  250000000  [{\"id\": 28, \"name\": \"Action\"}, {\"id\": 12, \"nam...   \n47     54138  190000000  [{\"id\": 28, \"name\": \"Action\"}, {\"id\": 12, \"nam...   \n48     81005  195000000  [{\"id\": 28, \"name\": \"Action\"}, {\"id\": 10751, \"...   \n49     64682  105000000  [{\"id\": 18, \"name\": \"Drama\"}, {\"id\": 10749, \"n...   \n\n                                             homepage  Unnamed: 4  \\\n0                         http://www.avatarmovie.com/         NaN   \n1        http://disney.go.com/disneypictures/pirates/         NaN   \n2         http://www.sonypictures.com/movies/spectre/         NaN   \n3                  http://www.thedarkknightrises.com/         NaN   \n4                http://movies.disney.com/john-carter         NaN   \n5     http://www.sonypictures.com/movies/spider-man3/         NaN   \n6        http://disney.go.com/disneypictures/tangled/         NaN   \n7   http://marvel.com/movies/movie/193/avengers_ag...         NaN   \n8   http://harrypotter.warnerbros.com/harrypottera...         NaN   \n9        http://www.batmanvsupermandawnofjustice.com/         NaN   \n10                            http://www.superman.com         NaN   \n11  http://www.mgm.com/view/movie/234/Quantum-of-S...         NaN   \n12       http://disney.go.com/disneypictures/pirates/         NaN   \n13              http://disney.go.com/the-lone-ranger/         NaN   \n14                         http://www.manofsteel.com/         NaN   \n15                                                NaN         NaN   \n16                  http://marvel.com/avengers_movie/         NaN   \n17  http://disney.go.com/pirates/index-on-stranger...         NaN   \n18    http://www.sonypictures.com/movies/meninblack3/         NaN   \n19                          http://www.thehobbit.com/         NaN   \n20                 http://www.theamazingspiderman.com         NaN   \n21                  http://www.robinhoodthemovie.com/         NaN   \n22                          http://www.thehobbit.com/         NaN   \n23  http://www.goldencompassmovie.com/index_german...         NaN   \n24                                                NaN         NaN   \n25                        http://www.titanicmovie.com         NaN   \n26           http://marvel.com/captainamericapremiere         NaN   \n27                                                NaN         NaN   \n28                      http://www.jurassicworld.com/         NaN   \n29                       http://www.skyfall-movie.com         NaN   \n30    http://www.sonypictures.com/movies/spider-man2/         NaN   \n31                         http://marvel.com/ironman3         NaN   \n32                   http://disney.go.com/wonderland/         NaN   \n33                                                NaN         NaN   \n34                                                NaN         NaN   \n35                  http://www.transformersmovie.com/         NaN   \n36                   http://www.transformersmovie.com         NaN   \n37          http://www.ozthegreatandpowerfulmovie.com         NaN   \n38                 http://www.theamazingspiderman.com         NaN   \n39                         http://disney.go.com/tron/         NaN   \n40                     http://www.disney.go.com/cars/         NaN   \n41           http://greenlanternmovie.warnerbros.com/         NaN   \n42                     http://disney.go.com/toystory/         NaN   \n43    https://www.warnerbros.com/terminator-salvation         NaN   \n44                           http://www.furious7.com/         NaN   \n45                      http://www.worldwarzmovie.com         NaN   \n46                        http://www.x-menmovies.com/         NaN   \n47                                                NaN         NaN   \n48           http://jackthegiantkiller.warnerbros.com         NaN   \n49                                                NaN         NaN   \n\n                                             keywords original_language  \\\n0   [{\"id\": 1463, \"name\": \"culture clash\"}, {\"id\":...                en   \n1   [{\"id\": 270, \"name\": \"ocean\"}, {\"id\": 726, \"na...                en   \n2   [{\"id\": 470, \"name\": \"spy\"}, {\"id\": 818, \"name...                en   \n3   [{\"id\": 849, \"name\": \"dc comics\"}, {\"id\": 853,...                en   \n4   [{\"id\": 818, \"name\": \"based on novel\"}, {\"id\":...                en   \n5   [{\"id\": 851, \"name\": \"dual identity\"}, {\"id\": ...                en   \n6   [{\"id\": 1562, \"name\": \"hostage\"}, {\"id\": 2343,...                en   \n7   [{\"id\": 8828, \"name\": \"marvel comic\"}, {\"id\": ...                en   \n8   [{\"id\": 616, \"name\": \"witch\"}, {\"id\": 2343, \"n...                en   \n9   [{\"id\": 849, \"name\": \"dc comics\"}, {\"id\": 7002...                en   \n10  [{\"id\": 83, \"name\": \"saving the world\"}, {\"id\"...                en   \n11  [{\"id\": 627, \"name\": \"killing\"}, {\"id\": 1568, ...                en   \n12  [{\"id\": 616, \"name\": \"witch\"}, {\"id\": 663, \"na...                en   \n13  [{\"id\": 1556, \"name\": \"texas\"}, {\"id\": 2673, \"...                en   \n14  [{\"id\": 83, \"name\": \"saving the world\"}, {\"id\"...                en   \n15  [{\"id\": 818, \"name\": \"based on novel\"}, {\"id\":...                en   \n16  [{\"id\": 242, \"name\": \"new york\"}, {\"id\": 5539,...                en   \n17  [{\"id\": 658, \"name\": \"sea\"}, {\"id\": 1316, \"nam...                en   \n18  [{\"id\": 4379, \"name\": \"time travel\"}, {\"id\": 5...                en   \n19  [{\"id\": 417, \"name\": \"corruption\"}, {\"id\": 603...                en   \n20  [{\"id\": 1872, \"name\": \"loss of father\"}, {\"id\"...                en   \n21  [{\"id\": 4147, \"name\": \"robin hood\"}, {\"id\": 43...                en   \n22  [{\"id\": 603, \"name\": \"elves\"}, {\"id\": 604, \"na...                en   \n23  [{\"id\": 392, \"name\": \"england\"}, {\"id\": 1461, ...                en   \n24  [{\"id\": 774, \"name\": \"film business\"}, {\"id\": ...                en   \n25  [{\"id\": 2580, \"name\": \"shipwreck\"}, {\"id\": 298...                en   \n26  [{\"id\": 393, \"name\": \"civil war\"}, {\"id\": 6091...                en   \n27  [{\"id\": 1721, \"name\": \"fight\"}, {\"id\": 4410, \"...                en   \n28  [{\"id\": 1299, \"name\": \"monster\"}, {\"id\": 1718,...                en   \n29  [{\"id\": 470, \"name\": \"spy\"}, {\"id\": 4289, \"nam...                en   \n30  [{\"id\": 851, \"name\": \"dual identity\"}, {\"id\": ...                en   \n31  [{\"id\": 949, \"name\": \"terrorist\"}, {\"id\": 5597...                en   \n32  [{\"id\": 818, \"name\": \"based on novel\"}, {\"id\":...                en   \n33  [{\"id\": 1852, \"name\": \"mutant\"}, {\"id\": 8828, ...                en   \n34  [{\"id\": 1299, \"name\": \"monster\"}, {\"id\": 5984,...                en   \n35  [{\"id\": 1160, \"name\": \"egypt\"}, {\"id\": 1670, \"...                en   \n36  [{\"id\": 9663, \"name\": \"sequel\"}, {\"id\": 9951, ...                en   \n37  [{\"id\": 291, \"name\": \"circus\"}, {\"id\": 616, \"n...                en   \n38  [{\"id\": 1523, \"name\": \"obsession\"}, {\"id\": 882...                en   \n39  [{\"id\": 310, \"name\": \"artificial intelligence\"...                en   \n40  [{\"id\": 830, \"name\": \"car race\"}, {\"id\": 9663,...                en   \n41  [{\"id\": 849, \"name\": \"dc comics\"}, {\"id\": 4375...                en   \n42  [{\"id\": 1562, \"name\": \"hostage\"}, {\"id\": 3616,...                en   \n43  [{\"id\": 83, \"name\": \"saving the world\"}, {\"id\"...                en   \n44  [{\"id\": 830, \"name\": \"car race\"}, {\"id\": 3428,...                en   \n45  [{\"id\": 4565, \"name\": \"dystopia\"}, {\"id\": 1233...                en   \n46  [{\"id\": 1228, \"name\": \"1970s\"}, {\"id\": 1852, \"...                en   \n47  [{\"id\": 1612, \"name\": \"spacecraft\"}, {\"id\": 60...                en   \n48  [{\"id\": 179411, \"name\": \"based on fairy tale\"}...                en   \n49  [{\"id\": 818, \"name\": \"based on novel\"}, {\"id\":...                en   \n\n                                 original_title  \\\n0                                        Avatar   \n1      Pirates of the Caribbean: At World's End   \n2                                       Spectre   \n3                         The Dark Knight Rises   \n4                                   John Carter   \n5                                  Spider-Man 3   \n6                                       Tangled   \n7                       Avengers: Age of Ultron   \n8        Harry Potter and the Half-Blood Prince   \n9            Batman v Superman: Dawn of Justice   \n10                             Superman Returns   \n11                            Quantum of Solace   \n12   Pirates of the Caribbean: Dead Man's Chest   \n13                              The Lone Ranger   \n14                                 Man of Steel   \n15     The Chronicles of Narnia: Prince Caspian   \n16                                 The Avengers   \n17  Pirates of the Caribbean: On Stranger Tides   \n18                               Men in Black 3   \n19    The Hobbit: The Battle of the Five Armies   \n20                       The Amazing Spider-Man   \n21                                   Robin Hood   \n22          The Hobbit: The Desolation of Smaug   \n23                           The Golden Compass   \n24                                    King Kong   \n25                                      Titanic   \n26                   Captain America: Civil War   \n27                                   Battleship   \n28                               Jurassic World   \n29                                      Skyfall   \n30                                 Spider-Man 2   \n31                                   Iron Man 3   \n32                          Alice in Wonderland   \n33                        X-Men: The Last Stand   \n34                          Monsters University   \n35          Transformers: Revenge of the Fallen   \n36              Transformers: Age of Extinction   \n37                   Oz: The Great and Powerful   \n38                     The Amazing Spider-Man 2   \n39                                 TRON: Legacy   \n40                                       Cars 2   \n41                                Green Lantern   \n42                                  Toy Story 3   \n43                         Terminator Salvation   \n44                                    Furious 7   \n45                                  World War Z   \n46                   X-Men: Days of Future Past   \n47                      Star Trek Into Darkness   \n48                        Jack the Giant Slayer   \n49                             The Great Gatsby   \n\n                                             overview  popularity  ...  \\\n0   In the 22nd century, a paraplegic Marine is di...  150.437577  ...   \n1   Captain Barbossa, long believed to be dead, ha...  139.082615  ...   \n2   A cryptic message from Bond’s past sends him o...  107.376788  ...   \n3   Following the death of District Attorney Harve...  112.312950  ...   \n4   John Carter is a war-weary, former military ca...   43.926995  ...   \n5   The seemingly invincible Spider-Man goes up ag...  115.699814  ...   \n6   When the kingdom's most wanted-and most charmi...   48.681969  ...   \n7   When Tony Stark tries to jumpstart a dormant p...  134.279229  ...   \n8   As Harry begins his sixth year at Hogwarts, he...   98.885637  ...   \n9   Fearing the actions of a god-like Super Hero l...  155.790452  ...   \n10  Superman returns to discover his 5-year absenc...   57.925623  ...   \n11  Quantum of Solace continues the adventures of ...  107.928811  ...   \n12  Captain Jack Sparrow works his way out of a bl...  145.847379  ...   \n13  The Texas Rangers chase down a gang of outlaws...   49.046956  ...   \n14  A young boy learns that he has extraordinary p...   99.398009  ...   \n15  One year after their incredible adventures in ...   53.978602  ...   \n16  When an unexpected enemy emerges and threatens...  144.448633  ...   \n17  Captain Jack Sparrow crosses paths with a woma...  135.413856  ...   \n18  Agents J (Will Smith) and K (Tommy Lee Jones) ...   52.035179  ...   \n19  Immediately after the events of The Desolation...  120.965743  ...   \n20  Peter Parker is an outcast high schooler aband...   89.866276  ...   \n21  When soldier Robin happens upon the dying Robe...   37.668301  ...   \n22  The Dwarves, Bilbo and Gandalf have successful...   94.370564  ...   \n23  After overhearing a shocking secret, precociou...   42.990906  ...   \n24  In 1933 New York, an overly ambitious movie pr...   61.226010  ...   \n25  84 years later, a 101-year-old woman named Ros...  100.025899  ...   \n26  Following the events of Age of Ultron, the col...  198.372395  ...   \n27  When mankind beams a radio signal into space, ...   64.928382  ...   \n28  Twenty-two years after the events of Jurassic ...  418.708552  ...   \n29  When Bond's latest assignment goes gravely wro...   93.004993  ...   \n30  Peter Parker is going through a major identity...   35.149586  ...   \n31  When Tony Stark's world is torn apart by a for...   77.682080  ...   \n32  Alice, an unpretentious and individual 19-year...   78.530105  ...   \n33  When a cure is found to treat mutations, lines...    3.857526  ...   \n34  A look at the relationship between Mike and Su...   89.186492  ...   \n35  Sam Witwicky leaves the Autobots behind for a ...   21.939663  ...   \n36  As humanity picks up the pieces, following the...  116.840296  ...   \n37  Oscar Diggs, a small-time circus illusionist a...   46.985445  ...   \n38  For Peter Parker, life is busy. Between taking...   89.270217  ...   \n39  Sam Flynn, the tech-savvy and daring son of Ke...   73.795050  ...   \n40  Star race car Lightning McQueen and his pal Ma...   49.986590  ...   \n41  For centuries, a small but powerful force of w...   51.872839  ...   \n42  Woody, Buzz, and the rest of Andy's toys haven...   59.995418  ...   \n43  All grown up in post-apocalyptic 2018, John Co...   71.862892  ...   \n44  Deckard Shaw seeks revenge against Dominic Tor...  102.322217  ...   \n45  Life for former United Nations investigator Ge...   81.834855  ...   \n46  The ultimate X-Men ensemble fights a war for t...  118.078691  ...   \n47  When the crew of the Enterprise is called back...   78.291018  ...   \n48  The story of an ancient war that is reignited ...   43.349855  ...   \n49  An adaptation of F. Scott Fitzgerald's Long Is...   61.196071  ...   \n\n                                 production_countries release_date  \\\n0   [{\"iso_3166_1\": \"US\", \"name\": \"United States o...   10-12-2009   \n1   [{\"iso_3166_1\": \"US\", \"name\": \"United States o...   19-05-2007   \n2   [{\"iso_3166_1\": \"GB\", \"name\": \"United Kingdom\"...   26-10-2015   \n3   [{\"iso_3166_1\": \"US\", \"name\": \"United States o...   16-07-2012   \n4   [{\"iso_3166_1\": \"US\", \"name\": \"United States o...   07-03-2012   \n5   [{\"iso_3166_1\": \"US\", \"name\": \"United States o...   01-05-2007   \n6   [{\"iso_3166_1\": \"US\", \"name\": \"United States o...   24-11-2010   \n7   [{\"iso_3166_1\": \"US\", \"name\": \"United States o...   22-04-2015   \n8   [{\"iso_3166_1\": \"GB\", \"name\": \"United Kingdom\"...   07-07-2009   \n9   [{\"iso_3166_1\": \"US\", \"name\": \"United States o...   23-03-2016   \n10  [{\"iso_3166_1\": \"US\", \"name\": \"United States o...   28-06-2006   \n11  [{\"iso_3166_1\": \"GB\", \"name\": \"United Kingdom\"...   30-10-2008   \n12  [{\"iso_3166_1\": \"JM\", \"name\": \"Jamaica\"}, {\"is...   20-06-2006   \n13  [{\"iso_3166_1\": \"US\", \"name\": \"United States o...   03-07-2013   \n14  [{\"iso_3166_1\": \"GB\", \"name\": \"United Kingdom\"...   12-06-2013   \n15  [{\"iso_3166_1\": \"CZ\", \"name\": \"Czech Republic\"...   15-05-2008   \n16  [{\"iso_3166_1\": \"US\", \"name\": \"United States o...   25-04-2012   \n17  [{\"iso_3166_1\": \"US\", \"name\": \"United States o...   14-05-2011   \n18  [{\"iso_3166_1\": \"US\", \"name\": \"United States o...   23-05-2012   \n19  [{\"iso_3166_1\": \"NZ\", \"name\": \"New Zealand\"}, ...   10-12-2014   \n20  [{\"iso_3166_1\": \"US\", \"name\": \"United States o...   27-06-2012   \n21  [{\"iso_3166_1\": \"GB\", \"name\": \"United Kingdom\"...   12-05-2010   \n22  [{\"iso_3166_1\": \"NZ\", \"name\": \"New Zealand\"}, ...   11-12-2013   \n23  [{\"iso_3166_1\": \"GB\", \"name\": \"United Kingdom\"...   04-12-2007   \n24  [{\"iso_3166_1\": \"NZ\", \"name\": \"New Zealand\"}, ...   14-12-2005   \n25  [{\"iso_3166_1\": \"US\", \"name\": \"United States o...   18-11-1997   \n26  [{\"iso_3166_1\": \"US\", \"name\": \"United States o...   27-04-2016   \n27  [{\"iso_3166_1\": \"US\", \"name\": \"United States o...   11-04-2012   \n28  [{\"iso_3166_1\": \"US\", \"name\": \"United States o...   09-06-2015   \n29  [{\"iso_3166_1\": \"GB\", \"name\": \"United Kingdom\"...   25-10-2012   \n30  [{\"iso_3166_1\": \"US\", \"name\": \"United States o...   25-06-2004   \n31  [{\"iso_3166_1\": \"CN\", \"name\": \"China\"}, {\"iso_...   18-04-2013   \n32  [{\"iso_3166_1\": \"US\", \"name\": \"United States o...   03-03-2010   \n33  [{\"iso_3166_1\": \"CA\", \"name\": \"Canada\"}, {\"iso...   24-05-2006   \n34  [{\"iso_3166_1\": \"US\", \"name\": \"United States o...   20-06-2013   \n35  [{\"iso_3166_1\": \"US\", \"name\": \"United States o...   19-06-2009   \n36  [{\"iso_3166_1\": \"US\", \"name\": \"United States o...   25-06-2014   \n37  [{\"iso_3166_1\": \"US\", \"name\": \"United States o...   07-03-2013   \n38  [{\"iso_3166_1\": \"US\", \"name\": \"United States o...   16-04-2014   \n39  [{\"iso_3166_1\": \"US\", \"name\": \"United States o...   10-12-2010   \n40  [{\"iso_3166_1\": \"US\", \"name\": \"United States o...   11-06-2011   \n41  [{\"iso_3166_1\": \"US\", \"name\": \"United States o...   16-06-2011   \n42  [{\"iso_3166_1\": \"US\", \"name\": \"United States o...   16-06-2010   \n43  [{\"iso_3166_1\": \"DE\", \"name\": \"Germany\"}, {\"is...   20-05-2009   \n44  [{\"iso_3166_1\": \"JP\", \"name\": \"Japan\"}, {\"iso_...   01-04-2015   \n45  [{\"iso_3166_1\": \"US\", \"name\": \"United States o...   20-06-2013   \n46  [{\"iso_3166_1\": \"GB\", \"name\": \"United Kingdom\"...   15-05-2014   \n47  [{\"iso_3166_1\": \"US\", \"name\": \"United States o...   05-05-2013   \n48  [{\"iso_3166_1\": \"US\", \"name\": \"United States o...   27-02-2013   \n49  [{\"iso_3166_1\": \"US\", \"name\": \"United States o...   10-05-2013   \n\n       revenue  runtime                                   spoken_languages  \\\n0   2787965087    162.0  [{\"iso_639_1\": \"en\", \"name\": \"English\"}, {\"iso...   \n1    961000000    169.0           [{\"iso_639_1\": \"en\", \"name\": \"English\"}]   \n2    880674609    148.0  [{\"iso_639_1\": \"fr\", \"name\": \"Fran\\u00e7ais\"},...   \n3   1084939099    165.0           [{\"iso_639_1\": \"en\", \"name\": \"English\"}]   \n4    284139100    132.0           [{\"iso_639_1\": \"en\", \"name\": \"English\"}]   \n5    890871626    139.0  [{\"iso_639_1\": \"en\", \"name\": \"English\"}, {\"iso...   \n6    591794936    100.0           [{\"iso_639_1\": \"en\", \"name\": \"English\"}]   \n7   1405403694    141.0           [{\"iso_639_1\": \"en\", \"name\": \"English\"}]   \n8    933959197    153.0           [{\"iso_639_1\": \"en\", \"name\": \"English\"}]   \n9    873260194    151.0           [{\"iso_639_1\": \"en\", \"name\": \"English\"}]   \n10   391081192    154.0  [{\"iso_639_1\": \"en\", \"name\": \"English\"}, {\"iso...   \n11   586090727    106.0  [{\"iso_639_1\": \"en\", \"name\": \"English\"}, {\"iso...   \n12  1065659812    151.0  [{\"iso_639_1\": \"en\", \"name\": \"English\"}, {\"iso...   \n13    89289910    149.0           [{\"iso_639_1\": \"en\", \"name\": \"English\"}]   \n14   662845518    143.0           [{\"iso_639_1\": \"en\", \"name\": \"English\"}]   \n15   419651413    150.0           [{\"iso_639_1\": \"en\", \"name\": \"English\"}]   \n16  1519557910    143.0           [{\"iso_639_1\": \"en\", \"name\": \"English\"}]   \n17  1045713802    136.0  [{\"iso_639_1\": \"en\", \"name\": \"English\"}, {\"iso...   \n18   624026776    106.0           [{\"iso_639_1\": \"en\", \"name\": \"English\"}]   \n19   956019788    144.0           [{\"iso_639_1\": \"en\", \"name\": \"English\"}]   \n20   752215857    136.0           [{\"iso_639_1\": \"en\", \"name\": \"English\"}]   \n21   310669540    140.0  [{\"iso_639_1\": \"en\", \"name\": \"English\"}, {\"iso...   \n22   958400000    161.0           [{\"iso_639_1\": \"en\", \"name\": \"English\"}]   \n23   372234864    113.0  [{\"iso_639_1\": \"is\", \"name\": \"\\u00cdslenska\"},...   \n24   550000000    187.0           [{\"iso_639_1\": \"en\", \"name\": \"English\"}]   \n25  1845034188    194.0  [{\"iso_639_1\": \"en\", \"name\": \"English\"}, {\"iso...   \n26  1153304495    147.0  [{\"iso_639_1\": \"ro\", \"name\": \"Rom\\u00e2n\\u0103...   \n27   303025485    131.0  [{\"iso_639_1\": \"en\", \"name\": \"English\"}, {\"iso...   \n28  1513528810    124.0           [{\"iso_639_1\": \"en\", \"name\": \"English\"}]   \n29  1108561013    143.0           [{\"iso_639_1\": \"en\", \"name\": \"English\"}]   \n30   783766341    127.0  [{\"iso_639_1\": \"en\", \"name\": \"English\"}, {\"iso...   \n31  1215439994    130.0           [{\"iso_639_1\": \"en\", \"name\": \"English\"}]   \n32  1025491110    108.0           [{\"iso_639_1\": \"en\", \"name\": \"English\"}]   \n33   459359555    104.0           [{\"iso_639_1\": \"en\", \"name\": \"English\"}]   \n34   743559607    104.0           [{\"iso_639_1\": \"en\", \"name\": \"English\"}]   \n35   836297228    150.0  [{\"iso_639_1\": \"en\", \"name\": \"English\"}, {\"iso...   \n36  1091405097    165.0           [{\"iso_639_1\": \"en\", \"name\": \"English\"}]   \n37   491868548    130.0           [{\"iso_639_1\": \"en\", \"name\": \"English\"}]   \n38   705717432    142.0           [{\"iso_639_1\": \"en\", \"name\": \"English\"}]   \n39   400062763    125.0           [{\"iso_639_1\": \"en\", \"name\": \"English\"}]   \n40   559852396    106.0  [{\"iso_639_1\": \"en\", \"name\": \"English\"}, {\"iso...   \n41   219851172    114.0           [{\"iso_639_1\": \"en\", \"name\": \"English\"}]   \n42  1066969703    103.0  [{\"iso_639_1\": \"en\", \"name\": \"English\"}, {\"iso...   \n43   371353001    115.0  [{\"iso_639_1\": \"en\", \"name\": \"English\"}, {\"iso...   \n44  1506249360    137.0           [{\"iso_639_1\": \"en\", \"name\": \"English\"}]   \n45   531865000    116.0           [{\"iso_639_1\": \"en\", \"name\": \"English\"}]   \n46   747862775    131.0           [{\"iso_639_1\": \"en\", \"name\": \"English\"}]   \n47   467365246    132.0           [{\"iso_639_1\": \"en\", \"name\": \"English\"}]   \n48   197687603    114.0           [{\"iso_639_1\": \"en\", \"name\": \"English\"}]   \n49   351040419    143.0           [{\"iso_639_1\": \"en\", \"name\": \"English\"}]   \n\n      status                                            tagline  \\\n0   Released                        Enter the World of Pandora.   \n1   Released     At the end of the world, the adventure begins.   \n2   Released                              A Plan No One Escapes   \n3   Released                                    The Legend Ends   \n4   Released               Lost in our world, found in another.   \n5   Released                                 The battle within.   \n6   Released           They're taking adventure to new lengths.   \n7   Released                                A New Age Has Come.   \n8   Released                              Dark Secrets Revealed   \n9   Released                                 Justice or revenge   \n10  Released                                                NaN   \n11  Released      For love, for hate, for justice, for revenge.   \n12  Released                                      Jack is back!   \n13  Released                            Never Take Off the Mask   \n14  Released               You will believe that a man can fly.   \n15  Released                               Hope has a new face.   \n16  Released                            Some assembly required.   \n17  Released                        Live Forever Or Die Trying.   \n18  Released                          They are back... in time.   \n19  Released  Witness the defining chapter of the Middle-Ear...   \n20  Released                           The untold story begins.   \n21  Released     Rise and rise again, until lambs become lions.   \n22  Released  Beyond darkness... beyond desolation... lies t...   \n23  Released  There are worlds beyond our own - the compass ...   \n24  Released                    The eighth wonder of the world.   \n25  Released          Nothing on Earth could come between them.   \n26  Released                                    Divided We Fall   \n27  Released                 The Battle for Earth Begins at Sea   \n28  Released                                  The park is open.   \n29  Released                                Think on your sins.   \n30  Released                       There's a hero in all of us.   \n31  Released                Unleash the power behind the armor.   \n32  Released           You're invited to a very important date.   \n33  Released                                       Take a Stand   \n34  Released                    School never looked this scary.   \n35  Released                                 Revenge is coming.   \n36  Released                  This is not war. It's extinction.   \n37  Released                    In Oz, nothing is what it seems   \n38  Released                                   No more secrets.   \n39  Released                              The Game Has Changed.   \n40  Released                                           Ka-ciao!   \n41  Released          In our darkest hour, there will be light.   \n42  Released                           No toy gets left behind.   \n43  Released                                    The End Begins.   \n44  Released                                Vengeance Hits Home   \n45  Released                                   Remember Philly!   \n46  Released       To save the future, they must alter the past   \n47  Released                                    Earth Will Fall   \n48  Released                      Prepare for a giant adventure   \n49  Released  Reserving judgments is a matter of infinite ho...   \n\n                                          title vote_average  vote_count  \n0                                        Avatar          7.2       11800  \n1      Pirates of the Caribbean: At World's End          6.9        4500  \n2                                       Spectre          6.3        4466  \n3                         The Dark Knight Rises          7.6        9106  \n4                                   John Carter          6.1        2124  \n5                                  Spider-Man 3          5.9        3576  \n6                                       Tangled          7.4        3330  \n7                       Avengers: Age of Ultron          7.3        6767  \n8        Harry Potter and the Half-Blood Prince          7.4        5293  \n9            Batman v Superman: Dawn of Justice          5.7        7004  \n10                             Superman Returns          5.4        1400  \n11                            Quantum of Solace          6.1        2965  \n12   Pirates of the Caribbean: Dead Man's Chest          7.0        5246  \n13                              The Lone Ranger          5.9        2311  \n14                                 Man of Steel          6.5        6359  \n15     The Chronicles of Narnia: Prince Caspian          6.3        1630  \n16                                 The Avengers          7.4       11776  \n17  Pirates of the Caribbean: On Stranger Tides          6.4        4948  \n18                               Men in Black 3          6.2        4160  \n19    The Hobbit: The Battle of the Five Armies          7.1        4760  \n20                       The Amazing Spider-Man          6.5        6586  \n21                                   Robin Hood          6.2        1398  \n22          The Hobbit: The Desolation of Smaug          7.6        4524  \n23                           The Golden Compass          5.8        1303  \n24                                    King Kong          6.6        2337  \n25                                      Titanic          7.5        7562  \n26                   Captain America: Civil War          7.1        7241  \n27                                   Battleship          5.5        2114  \n28                               Jurassic World          6.5        8662  \n29                                      Skyfall          6.9        7604  \n30                                 Spider-Man 2          6.7        4321  \n31                                   Iron Man 3          6.8        8806  \n32                          Alice in Wonderland          6.4        4645  \n33                        X-Men: The Last Stand          6.3        3525  \n34                          Monsters University          7.0        3528  \n35          Transformers: Revenge of the Fallen          6.0        3138  \n36              Transformers: Age of Extinction          5.8        3095  \n37                   Oz: The Great and Powerful          5.7        3530  \n38                     The Amazing Spider-Man 2          6.5        4179  \n39                                 TRON: Legacy          6.3        2841  \n40                                       Cars 2          5.8        2033  \n41                                Green Lantern          5.1        2487  \n42                                  Toy Story 3          7.6        4597  \n43                         Terminator Salvation          5.9        2463  \n44                                    Furious 7          7.3        4176  \n45                                  World War Z          6.7        5560  \n46                   X-Men: Days of Future Past          7.5        6032  \n47                      Star Trek Into Darkness          7.4        4418  \n48                        Jack the Giant Slayer          5.5        2598  \n49                             The Great Gatsby          7.3        3769  \n\n[50 rows x 21 columns]",
      "text/html": "<div>\n<style scoped>\n    .dataframe tbody tr th:only-of-type {\n        vertical-align: middle;\n    }\n\n    .dataframe tbody tr th {\n        vertical-align: top;\n    }\n\n    .dataframe thead th {\n        text-align: right;\n    }\n</style>\n<table border=\"1\" class=\"dataframe\">\n  <thead>\n    <tr style=\"text-align: right;\">\n      <th></th>\n      <th>movie_id</th>\n      <th>budget</th>\n      <th>genres</th>\n      <th>homepage</th>\n      <th>Unnamed: 4</th>\n      <th>keywords</th>\n      <th>original_language</th>\n      <th>original_title</th>\n      <th>overview</th>\n      <th>popularity</th>\n      <th>...</th>\n      <th>production_countries</th>\n      <th>release_date</th>\n      <th>revenue</th>\n      <th>runtime</th>\n      <th>spoken_languages</th>\n      <th>status</th>\n      <th>tagline</th>\n      <th>title</th>\n      <th>vote_average</th>\n      <th>vote_count</th>\n    </tr>\n  </thead>\n  <tbody>\n    <tr>\n      <th>0</th>\n      <td>19995</td>\n      <td>237000000</td>\n      <td>[{\"id\": 28, \"name\": \"Action\"}, {\"id\": 12, \"nam...</td>\n      <td>http://www.avatarmovie.com/</td>\n      <td>NaN</td>\n      <td>[{\"id\": 1463, \"name\": \"culture clash\"}, {\"id\":...</td>\n      <td>en</td>\n      <td>Avatar</td>\n      <td>In the 22nd century, a paraplegic Marine is di...</td>\n      <td>150.437577</td>\n      <td>...</td>\n      <td>[{\"iso_3166_1\": \"US\", \"name\": \"United States o...</td>\n      <td>10-12-2009</td>\n      <td>2787965087</td>\n      <td>162.0</td>\n      <td>[{\"iso_639_1\": \"en\", \"name\": \"English\"}, {\"iso...</td>\n      <td>Released</td>\n      <td>Enter the World of Pandora.</td>\n      <td>Avatar</td>\n      <td>7.2</td>\n      <td>11800</td>\n    </tr>\n    <tr>\n      <th>1</th>\n      <td>285</td>\n      <td>300000000</td>\n      <td>[{\"id\": 12, \"name\": \"Adventure\"}, {\"id\": 14, \"...</td>\n      <td>http://disney.go.com/disneypictures/pirates/</td>\n      <td>NaN</td>\n      <td>[{\"id\": 270, \"name\": \"ocean\"}, {\"id\": 726, \"na...</td>\n      <td>en</td>\n      <td>Pirates of the Caribbean: At World's End</td>\n      <td>Captain Barbossa, long believed to be dead, ha...</td>\n      <td>139.082615</td>\n      <td>...</td>\n      <td>[{\"iso_3166_1\": \"US\", \"name\": \"United States o...</td>\n      <td>19-05-2007</td>\n      <td>961000000</td>\n      <td>169.0</td>\n      <td>[{\"iso_639_1\": \"en\", \"name\": \"English\"}]</td>\n      <td>Released</td>\n      <td>At the end of the world, the adventure begins.</td>\n      <td>Pirates of the Caribbean: At World's End</td>\n      <td>6.9</td>\n      <td>4500</td>\n    </tr>\n    <tr>\n      <th>2</th>\n      <td>206647</td>\n      <td>245000000</td>\n      <td>[{\"id\": 28, \"name\": \"Action\"}, {\"id\": 12, \"nam...</td>\n      <td>http://www.sonypictures.com/movies/spectre/</td>\n      <td>NaN</td>\n      <td>[{\"id\": 470, \"name\": \"spy\"}, {\"id\": 818, \"name...</td>\n      <td>en</td>\n      <td>Spectre</td>\n      <td>A cryptic message from Bond’s past sends him o...</td>\n      <td>107.376788</td>\n      <td>...</td>\n      <td>[{\"iso_3166_1\": \"GB\", \"name\": \"United Kingdom\"...</td>\n      <td>26-10-2015</td>\n      <td>880674609</td>\n      <td>148.0</td>\n      <td>[{\"iso_639_1\": \"fr\", \"name\": \"Fran\\u00e7ais\"},...</td>\n      <td>Released</td>\n      <td>A Plan No One Escapes</td>\n      <td>Spectre</td>\n      <td>6.3</td>\n      <td>4466</td>\n    </tr>\n    <tr>\n      <th>3</th>\n      <td>49026</td>\n      <td>250000000</td>\n      <td>[{\"id\": 28, \"name\": \"Action\"}, {\"id\": 80, \"nam...</td>\n      <td>http://www.thedarkknightrises.com/</td>\n      <td>NaN</td>\n      <td>[{\"id\": 849, \"name\": \"dc comics\"}, {\"id\": 853,...</td>\n      <td>en</td>\n      <td>The Dark Knight Rises</td>\n      <td>Following the death of District Attorney Harve...</td>\n      <td>112.312950</td>\n      <td>...</td>\n      <td>[{\"iso_3166_1\": \"US\", \"name\": \"United States o...</td>\n      <td>16-07-2012</td>\n      <td>1084939099</td>\n      <td>165.0</td>\n      <td>[{\"iso_639_1\": \"en\", \"name\": \"English\"}]</td>\n      <td>Released</td>\n      <td>The Legend Ends</td>\n      <td>The Dark Knight Rises</td>\n      <td>7.6</td>\n      <td>9106</td>\n    </tr>\n    <tr>\n      <th>4</th>\n      <td>49529</td>\n      <td>260000000</td>\n      <td>[{\"id\": 28, \"name\": \"Action\"}, {\"id\": 12, \"nam...</td>\n      <td>http://movies.disney.com/john-carter</td>\n      <td>NaN</td>\n      <td>[{\"id\": 818, \"name\": \"based on novel\"}, {\"id\":...</td>\n      <td>en</td>\n      <td>John Carter</td>\n      <td>John Carter is a war-weary, former military ca...</td>\n      <td>43.926995</td>\n      <td>...</td>\n      <td>[{\"iso_3166_1\": \"US\", \"name\": \"United States o...</td>\n      <td>07-03-2012</td>\n      <td>284139100</td>\n      <td>132.0</td>\n      <td>[{\"iso_639_1\": \"en\", \"name\": \"English\"}]</td>\n      <td>Released</td>\n      <td>Lost in our world, found in another.</td>\n      <td>John Carter</td>\n      <td>6.1</td>\n      <td>2124</td>\n    </tr>\n    <tr>\n      <th>5</th>\n      <td>559</td>\n      <td>258000000</td>\n      <td>[{\"id\": 14, \"name\": \"Fantasy\"}, {\"id\": 28, \"na...</td>\n      <td>http://www.sonypictures.com/movies/spider-man3/</td>\n      <td>NaN</td>\n      <td>[{\"id\": 851, \"name\": \"dual identity\"}, {\"id\": ...</td>\n      <td>en</td>\n      <td>Spider-Man 3</td>\n      <td>The seemingly invincible Spider-Man goes up ag...</td>\n      <td>115.699814</td>\n      <td>...</td>\n      <td>[{\"iso_3166_1\": \"US\", \"name\": \"United States o...</td>\n      <td>01-05-2007</td>\n      <td>890871626</td>\n      <td>139.0</td>\n      <td>[{\"iso_639_1\": \"en\", \"name\": \"English\"}, {\"iso...</td>\n      <td>Released</td>\n      <td>The battle within.</td>\n      <td>Spider-Man 3</td>\n      <td>5.9</td>\n      <td>3576</td>\n    </tr>\n    <tr>\n      <th>6</th>\n      <td>38757</td>\n      <td>260000000</td>\n      <td>[{\"id\": 16, \"name\": \"Animation\"}, {\"id\": 10751...</td>\n      <td>http://disney.go.com/disneypictures/tangled/</td>\n      <td>NaN</td>\n      <td>[{\"id\": 1562, \"name\": \"hostage\"}, {\"id\": 2343,...</td>\n      <td>en</td>\n      <td>Tangled</td>\n      <td>When the kingdom's most wanted-and most charmi...</td>\n      <td>48.681969</td>\n      <td>...</td>\n      <td>[{\"iso_3166_1\": \"US\", \"name\": \"United States o...</td>\n      <td>24-11-2010</td>\n      <td>591794936</td>\n      <td>100.0</td>\n      <td>[{\"iso_639_1\": \"en\", \"name\": \"English\"}]</td>\n      <td>Released</td>\n      <td>They're taking adventure to new lengths.</td>\n      <td>Tangled</td>\n      <td>7.4</td>\n      <td>3330</td>\n    </tr>\n    <tr>\n      <th>7</th>\n      <td>99861</td>\n      <td>280000000</td>\n      <td>[{\"id\": 28, \"name\": \"Action\"}, {\"id\": 12, \"nam...</td>\n      <td>http://marvel.com/movies/movie/193/avengers_ag...</td>\n      <td>NaN</td>\n      <td>[{\"id\": 8828, \"name\": \"marvel comic\"}, {\"id\": ...</td>\n      <td>en</td>\n      <td>Avengers: Age of Ultron</td>\n      <td>When Tony Stark tries to jumpstart a dormant p...</td>\n      <td>134.279229</td>\n      <td>...</td>\n      <td>[{\"iso_3166_1\": \"US\", \"name\": \"United States o...</td>\n      <td>22-04-2015</td>\n      <td>1405403694</td>\n      <td>141.0</td>\n      <td>[{\"iso_639_1\": \"en\", \"name\": \"English\"}]</td>\n      <td>Released</td>\n      <td>A New Age Has Come.</td>\n      <td>Avengers: Age of Ultron</td>\n      <td>7.3</td>\n      <td>6767</td>\n    </tr>\n    <tr>\n      <th>8</th>\n      <td>767</td>\n      <td>250000000</td>\n      <td>[{\"id\": 12, \"name\": \"Adventure\"}, {\"id\": 14, \"...</td>\n      <td>http://harrypotter.warnerbros.com/harrypottera...</td>\n      <td>NaN</td>\n      <td>[{\"id\": 616, \"name\": \"witch\"}, {\"id\": 2343, \"n...</td>\n      <td>en</td>\n      <td>Harry Potter and the Half-Blood Prince</td>\n      <td>As Harry begins his sixth year at Hogwarts, he...</td>\n      <td>98.885637</td>\n      <td>...</td>\n      <td>[{\"iso_3166_1\": \"GB\", \"name\": \"United Kingdom\"...</td>\n      <td>07-07-2009</td>\n      <td>933959197</td>\n      <td>153.0</td>\n      <td>[{\"iso_639_1\": \"en\", \"name\": \"English\"}]</td>\n      <td>Released</td>\n      <td>Dark Secrets Revealed</td>\n      <td>Harry Potter and the Half-Blood Prince</td>\n      <td>7.4</td>\n      <td>5293</td>\n    </tr>\n    <tr>\n      <th>9</th>\n      <td>209112</td>\n      <td>250000000</td>\n      <td>[{\"id\": 28, \"name\": \"Action\"}, {\"id\": 12, \"nam...</td>\n      <td>http://www.batmanvsupermandawnofjustice.com/</td>\n      <td>NaN</td>\n      <td>[{\"id\": 849, \"name\": \"dc comics\"}, {\"id\": 7002...</td>\n      <td>en</td>\n      <td>Batman v Superman: Dawn of Justice</td>\n      <td>Fearing the actions of a god-like Super Hero l...</td>\n      <td>155.790452</td>\n      <td>...</td>\n      <td>[{\"iso_3166_1\": \"US\", \"name\": \"United States o...</td>\n      <td>23-03-2016</td>\n      <td>873260194</td>\n      <td>151.0</td>\n      <td>[{\"iso_639_1\": \"en\", \"name\": \"English\"}]</td>\n      <td>Released</td>\n      <td>Justice or revenge</td>\n      <td>Batman v Superman: Dawn of Justice</td>\n      <td>5.7</td>\n      <td>7004</td>\n    </tr>\n    <tr>\n      <th>10</th>\n      <td>1452</td>\n      <td>270000000</td>\n      <td>[{\"id\": 12, \"name\": \"Adventure\"}, {\"id\": 14, \"...</td>\n      <td>http://www.superman.com</td>\n      <td>NaN</td>\n      <td>[{\"id\": 83, \"name\": \"saving the world\"}, {\"id\"...</td>\n      <td>en</td>\n      <td>Superman Returns</td>\n      <td>Superman returns to discover his 5-year absenc...</td>\n      <td>57.925623</td>\n      <td>...</td>\n      <td>[{\"iso_3166_1\": \"US\", \"name\": \"United States o...</td>\n      <td>28-06-2006</td>\n      <td>391081192</td>\n      <td>154.0</td>\n      <td>[{\"iso_639_1\": \"en\", \"name\": \"English\"}, {\"iso...</td>\n      <td>Released</td>\n      <td>NaN</td>\n      <td>Superman Returns</td>\n      <td>5.4</td>\n      <td>1400</td>\n    </tr>\n    <tr>\n      <th>11</th>\n      <td>10764</td>\n      <td>200000000</td>\n      <td>[{\"id\": 12, \"name\": \"Adventure\"}, {\"id\": 28, \"...</td>\n      <td>http://www.mgm.com/view/movie/234/Quantum-of-S...</td>\n      <td>NaN</td>\n      <td>[{\"id\": 627, \"name\": \"killing\"}, {\"id\": 1568, ...</td>\n      <td>en</td>\n      <td>Quantum of Solace</td>\n      <td>Quantum of Solace continues the adventures of ...</td>\n      <td>107.928811</td>\n      <td>...</td>\n      <td>[{\"iso_3166_1\": \"GB\", \"name\": \"United Kingdom\"...</td>\n      <td>30-10-2008</td>\n      <td>586090727</td>\n      <td>106.0</td>\n      <td>[{\"iso_639_1\": \"en\", \"name\": \"English\"}, {\"iso...</td>\n      <td>Released</td>\n      <td>For love, for hate, for justice, for revenge.</td>\n      <td>Quantum of Solace</td>\n      <td>6.1</td>\n      <td>2965</td>\n    </tr>\n    <tr>\n      <th>12</th>\n      <td>58</td>\n      <td>200000000</td>\n      <td>[{\"id\": 12, \"name\": \"Adventure\"}, {\"id\": 14, \"...</td>\n      <td>http://disney.go.com/disneypictures/pirates/</td>\n      <td>NaN</td>\n      <td>[{\"id\": 616, \"name\": \"witch\"}, {\"id\": 663, \"na...</td>\n      <td>en</td>\n      <td>Pirates of the Caribbean: Dead Man's Chest</td>\n      <td>Captain Jack Sparrow works his way out of a bl...</td>\n      <td>145.847379</td>\n      <td>...</td>\n      <td>[{\"iso_3166_1\": \"JM\", \"name\": \"Jamaica\"}, {\"is...</td>\n      <td>20-06-2006</td>\n      <td>1065659812</td>\n      <td>151.0</td>\n      <td>[{\"iso_639_1\": \"en\", \"name\": \"English\"}, {\"iso...</td>\n      <td>Released</td>\n      <td>Jack is back!</td>\n      <td>Pirates of the Caribbean: Dead Man's Chest</td>\n      <td>7.0</td>\n      <td>5246</td>\n    </tr>\n    <tr>\n      <th>13</th>\n      <td>57201</td>\n      <td>255000000</td>\n      <td>[{\"id\": 28, \"name\": \"Action\"}, {\"id\": 12, \"nam...</td>\n      <td>http://disney.go.com/the-lone-ranger/</td>\n      <td>NaN</td>\n      <td>[{\"id\": 1556, \"name\": \"texas\"}, {\"id\": 2673, \"...</td>\n      <td>en</td>\n      <td>The Lone Ranger</td>\n      <td>The Texas Rangers chase down a gang of outlaws...</td>\n      <td>49.046956</td>\n      <td>...</td>\n      <td>[{\"iso_3166_1\": \"US\", \"name\": \"United States o...</td>\n      <td>03-07-2013</td>\n      <td>89289910</td>\n      <td>149.0</td>\n      <td>[{\"iso_639_1\": \"en\", \"name\": \"English\"}]</td>\n      <td>Released</td>\n      <td>Never Take Off the Mask</td>\n      <td>The Lone Ranger</td>\n      <td>5.9</td>\n      <td>2311</td>\n    </tr>\n    <tr>\n      <th>14</th>\n      <td>49521</td>\n      <td>225000000</td>\n      <td>[{\"id\": 28, \"name\": \"Action\"}, {\"id\": 12, \"nam...</td>\n      <td>http://www.manofsteel.com/</td>\n      <td>NaN</td>\n      <td>[{\"id\": 83, \"name\": \"saving the world\"}, {\"id\"...</td>\n      <td>en</td>\n      <td>Man of Steel</td>\n      <td>A young boy learns that he has extraordinary p...</td>\n      <td>99.398009</td>\n      <td>...</td>\n      <td>[{\"iso_3166_1\": \"GB\", \"name\": \"United Kingdom\"...</td>\n      <td>12-06-2013</td>\n      <td>662845518</td>\n      <td>143.0</td>\n      <td>[{\"iso_639_1\": \"en\", \"name\": \"English\"}]</td>\n      <td>Released</td>\n      <td>You will believe that a man can fly.</td>\n      <td>Man of Steel</td>\n      <td>6.5</td>\n      <td>6359</td>\n    </tr>\n    <tr>\n      <th>15</th>\n      <td>2454</td>\n      <td>225000000</td>\n      <td>[{\"id\": 12, \"name\": \"Adventure\"}, {\"id\": 10751...</td>\n      <td>NaN</td>\n      <td>NaN</td>\n      <td>[{\"id\": 818, \"name\": \"based on novel\"}, {\"id\":...</td>\n      <td>en</td>\n      <td>The Chronicles of Narnia: Prince Caspian</td>\n      <td>One year after their incredible adventures in ...</td>\n      <td>53.978602</td>\n      <td>...</td>\n      <td>[{\"iso_3166_1\": \"CZ\", \"name\": \"Czech Republic\"...</td>\n      <td>15-05-2008</td>\n      <td>419651413</td>\n      <td>150.0</td>\n      <td>[{\"iso_639_1\": \"en\", \"name\": \"English\"}]</td>\n      <td>Released</td>\n      <td>Hope has a new face.</td>\n      <td>The Chronicles of Narnia: Prince Caspian</td>\n      <td>6.3</td>\n      <td>1630</td>\n    </tr>\n    <tr>\n      <th>16</th>\n      <td>24428</td>\n      <td>220000000</td>\n      <td>[{\"id\": 878, \"name\": \"Science Fiction\"}, {\"id\"...</td>\n      <td>http://marvel.com/avengers_movie/</td>\n      <td>NaN</td>\n      <td>[{\"id\": 242, \"name\": \"new york\"}, {\"id\": 5539,...</td>\n      <td>en</td>\n      <td>The Avengers</td>\n      <td>When an unexpected enemy emerges and threatens...</td>\n      <td>144.448633</td>\n      <td>...</td>\n      <td>[{\"iso_3166_1\": \"US\", \"name\": \"United States o...</td>\n      <td>25-04-2012</td>\n      <td>1519557910</td>\n      <td>143.0</td>\n      <td>[{\"iso_639_1\": \"en\", \"name\": \"English\"}]</td>\n      <td>Released</td>\n      <td>Some assembly required.</td>\n      <td>The Avengers</td>\n      <td>7.4</td>\n      <td>11776</td>\n    </tr>\n    <tr>\n      <th>17</th>\n      <td>1865</td>\n      <td>380000000</td>\n      <td>[{\"id\": 12, \"name\": \"Adventure\"}, {\"id\": 28, \"...</td>\n      <td>http://disney.go.com/pirates/index-on-stranger...</td>\n      <td>NaN</td>\n      <td>[{\"id\": 658, \"name\": \"sea\"}, {\"id\": 1316, \"nam...</td>\n      <td>en</td>\n      <td>Pirates of the Caribbean: On Stranger Tides</td>\n      <td>Captain Jack Sparrow crosses paths with a woma...</td>\n      <td>135.413856</td>\n      <td>...</td>\n      <td>[{\"iso_3166_1\": \"US\", \"name\": \"United States o...</td>\n      <td>14-05-2011</td>\n      <td>1045713802</td>\n      <td>136.0</td>\n      <td>[{\"iso_639_1\": \"en\", \"name\": \"English\"}, {\"iso...</td>\n      <td>Released</td>\n      <td>Live Forever Or Die Trying.</td>\n      <td>Pirates of the Caribbean: On Stranger Tides</td>\n      <td>6.4</td>\n      <td>4948</td>\n    </tr>\n    <tr>\n      <th>18</th>\n      <td>41154</td>\n      <td>225000000</td>\n      <td>[{\"id\": 28, \"name\": \"Action\"}, {\"id\": 35, \"nam...</td>\n      <td>http://www.sonypictures.com/movies/meninblack3/</td>\n      <td>NaN</td>\n      <td>[{\"id\": 4379, \"name\": \"time travel\"}, {\"id\": 5...</td>\n      <td>en</td>\n      <td>Men in Black 3</td>\n      <td>Agents J (Will Smith) and K (Tommy Lee Jones) ...</td>\n      <td>52.035179</td>\n      <td>...</td>\n      <td>[{\"iso_3166_1\": \"US\", \"name\": \"United States o...</td>\n      <td>23-05-2012</td>\n      <td>624026776</td>\n      <td>106.0</td>\n      <td>[{\"iso_639_1\": \"en\", \"name\": \"English\"}]</td>\n      <td>Released</td>\n      <td>They are back... in time.</td>\n      <td>Men in Black 3</td>\n      <td>6.2</td>\n      <td>4160</td>\n    </tr>\n    <tr>\n      <th>19</th>\n      <td>122917</td>\n      <td>250000000</td>\n      <td>[{\"id\": 28, \"name\": \"Action\"}, {\"id\": 12, \"nam...</td>\n      <td>http://www.thehobbit.com/</td>\n      <td>NaN</td>\n      <td>[{\"id\": 417, \"name\": \"corruption\"}, {\"id\": 603...</td>\n      <td>en</td>\n      <td>The Hobbit: The Battle of the Five Armies</td>\n      <td>Immediately after the events of The Desolation...</td>\n      <td>120.965743</td>\n      <td>...</td>\n      <td>[{\"iso_3166_1\": \"NZ\", \"name\": \"New Zealand\"}, ...</td>\n      <td>10-12-2014</td>\n      <td>956019788</td>\n      <td>144.0</td>\n      <td>[{\"iso_639_1\": \"en\", \"name\": \"English\"}]</td>\n      <td>Released</td>\n      <td>Witness the defining chapter of the Middle-Ear...</td>\n      <td>The Hobbit: The Battle of the Five Armies</td>\n      <td>7.1</td>\n      <td>4760</td>\n    </tr>\n    <tr>\n      <th>20</th>\n      <td>1930</td>\n      <td>215000000</td>\n      <td>[{\"id\": 28, \"name\": \"Action\"}, {\"id\": 12, \"nam...</td>\n      <td>http://www.theamazingspiderman.com</td>\n      <td>NaN</td>\n      <td>[{\"id\": 1872, \"name\": \"loss of father\"}, {\"id\"...</td>\n      <td>en</td>\n      <td>The Amazing Spider-Man</td>\n      <td>Peter Parker is an outcast high schooler aband...</td>\n      <td>89.866276</td>\n      <td>...</td>\n      <td>[{\"iso_3166_1\": \"US\", \"name\": \"United States o...</td>\n      <td>27-06-2012</td>\n      <td>752215857</td>\n      <td>136.0</td>\n      <td>[{\"iso_639_1\": \"en\", \"name\": \"English\"}]</td>\n      <td>Released</td>\n      <td>The untold story begins.</td>\n      <td>The Amazing Spider-Man</td>\n      <td>6.5</td>\n      <td>6586</td>\n    </tr>\n    <tr>\n      <th>21</th>\n      <td>20662</td>\n      <td>200000000</td>\n      <td>[{\"id\": 28, \"name\": \"Action\"}, {\"id\": 12, \"nam...</td>\n      <td>http://www.robinhoodthemovie.com/</td>\n      <td>NaN</td>\n      <td>[{\"id\": 4147, \"name\": \"robin hood\"}, {\"id\": 43...</td>\n      <td>en</td>\n      <td>Robin Hood</td>\n      <td>When soldier Robin happens upon the dying Robe...</td>\n      <td>37.668301</td>\n      <td>...</td>\n      <td>[{\"iso_3166_1\": \"GB\", \"name\": \"United Kingdom\"...</td>\n      <td>12-05-2010</td>\n      <td>310669540</td>\n      <td>140.0</td>\n      <td>[{\"iso_639_1\": \"en\", \"name\": \"English\"}, {\"iso...</td>\n      <td>Released</td>\n      <td>Rise and rise again, until lambs become lions.</td>\n      <td>Robin Hood</td>\n      <td>6.2</td>\n      <td>1398</td>\n    </tr>\n    <tr>\n      <th>22</th>\n      <td>57158</td>\n      <td>250000000</td>\n      <td>[{\"id\": 12, \"name\": \"Adventure\"}, {\"id\": 14, \"...</td>\n      <td>http://www.thehobbit.com/</td>\n      <td>NaN</td>\n      <td>[{\"id\": 603, \"name\": \"elves\"}, {\"id\": 604, \"na...</td>\n      <td>en</td>\n      <td>The Hobbit: The Desolation of Smaug</td>\n      <td>The Dwarves, Bilbo and Gandalf have successful...</td>\n      <td>94.370564</td>\n      <td>...</td>\n      <td>[{\"iso_3166_1\": \"NZ\", \"name\": \"New Zealand\"}, ...</td>\n      <td>11-12-2013</td>\n      <td>958400000</td>\n      <td>161.0</td>\n      <td>[{\"iso_639_1\": \"en\", \"name\": \"English\"}]</td>\n      <td>Released</td>\n      <td>Beyond darkness... beyond desolation... lies t...</td>\n      <td>The Hobbit: The Desolation of Smaug</td>\n      <td>7.6</td>\n      <td>4524</td>\n    </tr>\n    <tr>\n      <th>23</th>\n      <td>2268</td>\n      <td>180000000</td>\n      <td>[{\"id\": 12, \"name\": \"Adventure\"}, {\"id\": 14, \"...</td>\n      <td>http://www.goldencompassmovie.com/index_german...</td>\n      <td>NaN</td>\n      <td>[{\"id\": 392, \"name\": \"england\"}, {\"id\": 1461, ...</td>\n      <td>en</td>\n      <td>The Golden Compass</td>\n      <td>After overhearing a shocking secret, precociou...</td>\n      <td>42.990906</td>\n      <td>...</td>\n      <td>[{\"iso_3166_1\": \"GB\", \"name\": \"United Kingdom\"...</td>\n      <td>04-12-2007</td>\n      <td>372234864</td>\n      <td>113.0</td>\n      <td>[{\"iso_639_1\": \"is\", \"name\": \"\\u00cdslenska\"},...</td>\n      <td>Released</td>\n      <td>There are worlds beyond our own - the compass ...</td>\n      <td>The Golden Compass</td>\n      <td>5.8</td>\n      <td>1303</td>\n    </tr>\n    <tr>\n      <th>24</th>\n      <td>254</td>\n      <td>207000000</td>\n      <td>[{\"id\": 12, \"name\": \"Adventure\"}, {\"id\": 18, \"...</td>\n      <td>NaN</td>\n      <td>NaN</td>\n      <td>[{\"id\": 774, \"name\": \"film business\"}, {\"id\": ...</td>\n      <td>en</td>\n      <td>King Kong</td>\n      <td>In 1933 New York, an overly ambitious movie pr...</td>\n      <td>61.226010</td>\n      <td>...</td>\n      <td>[{\"iso_3166_1\": \"NZ\", \"name\": \"New Zealand\"}, ...</td>\n      <td>14-12-2005</td>\n      <td>550000000</td>\n      <td>187.0</td>\n      <td>[{\"iso_639_1\": \"en\", \"name\": \"English\"}]</td>\n      <td>Released</td>\n      <td>The eighth wonder of the world.</td>\n      <td>King Kong</td>\n      <td>6.6</td>\n      <td>2337</td>\n    </tr>\n    <tr>\n      <th>25</th>\n      <td>597</td>\n      <td>200000000</td>\n      <td>[{\"id\": 18, \"name\": \"Drama\"}, {\"id\": 10749, \"n...</td>\n      <td>http://www.titanicmovie.com</td>\n      <td>NaN</td>\n      <td>[{\"id\": 2580, \"name\": \"shipwreck\"}, {\"id\": 298...</td>\n      <td>en</td>\n      <td>Titanic</td>\n      <td>84 years later, a 101-year-old woman named Ros...</td>\n      <td>100.025899</td>\n      <td>...</td>\n      <td>[{\"iso_3166_1\": \"US\", \"name\": \"United States o...</td>\n      <td>18-11-1997</td>\n      <td>1845034188</td>\n      <td>194.0</td>\n      <td>[{\"iso_639_1\": \"en\", \"name\": \"English\"}, {\"iso...</td>\n      <td>Released</td>\n      <td>Nothing on Earth could come between them.</td>\n      <td>Titanic</td>\n      <td>7.5</td>\n      <td>7562</td>\n    </tr>\n    <tr>\n      <th>26</th>\n      <td>271110</td>\n      <td>250000000</td>\n      <td>[{\"id\": 12, \"name\": \"Adventure\"}, {\"id\": 28, \"...</td>\n      <td>http://marvel.com/captainamericapremiere</td>\n      <td>NaN</td>\n      <td>[{\"id\": 393, \"name\": \"civil war\"}, {\"id\": 6091...</td>\n      <td>en</td>\n      <td>Captain America: Civil War</td>\n      <td>Following the events of Age of Ultron, the col...</td>\n      <td>198.372395</td>\n      <td>...</td>\n      <td>[{\"iso_3166_1\": \"US\", \"name\": \"United States o...</td>\n      <td>27-04-2016</td>\n      <td>1153304495</td>\n      <td>147.0</td>\n      <td>[{\"iso_639_1\": \"ro\", \"name\": \"Rom\\u00e2n\\u0103...</td>\n      <td>Released</td>\n      <td>Divided We Fall</td>\n      <td>Captain America: Civil War</td>\n      <td>7.1</td>\n      <td>7241</td>\n    </tr>\n    <tr>\n      <th>27</th>\n      <td>44833</td>\n      <td>209000000</td>\n      <td>[{\"id\": 53, \"name\": \"Thriller\"}, {\"id\": 28, \"n...</td>\n      <td>NaN</td>\n      <td>NaN</td>\n      <td>[{\"id\": 1721, \"name\": \"fight\"}, {\"id\": 4410, \"...</td>\n      <td>en</td>\n      <td>Battleship</td>\n      <td>When mankind beams a radio signal into space, ...</td>\n      <td>64.928382</td>\n      <td>...</td>\n      <td>[{\"iso_3166_1\": \"US\", \"name\": \"United States o...</td>\n      <td>11-04-2012</td>\n      <td>303025485</td>\n      <td>131.0</td>\n      <td>[{\"iso_639_1\": \"en\", \"name\": \"English\"}, {\"iso...</td>\n      <td>Released</td>\n      <td>The Battle for Earth Begins at Sea</td>\n      <td>Battleship</td>\n      <td>5.5</td>\n      <td>2114</td>\n    </tr>\n    <tr>\n      <th>28</th>\n      <td>135397</td>\n      <td>150000000</td>\n      <td>[{\"id\": 28, \"name\": \"Action\"}, {\"id\": 12, \"nam...</td>\n      <td>http://www.jurassicworld.com/</td>\n      <td>NaN</td>\n      <td>[{\"id\": 1299, \"name\": \"monster\"}, {\"id\": 1718,...</td>\n      <td>en</td>\n      <td>Jurassic World</td>\n      <td>Twenty-two years after the events of Jurassic ...</td>\n      <td>418.708552</td>\n      <td>...</td>\n      <td>[{\"iso_3166_1\": \"US\", \"name\": \"United States o...</td>\n      <td>09-06-2015</td>\n      <td>1513528810</td>\n      <td>124.0</td>\n      <td>[{\"iso_639_1\": \"en\", \"name\": \"English\"}]</td>\n      <td>Released</td>\n      <td>The park is open.</td>\n      <td>Jurassic World</td>\n      <td>6.5</td>\n      <td>8662</td>\n    </tr>\n    <tr>\n      <th>29</th>\n      <td>37724</td>\n      <td>200000000</td>\n      <td>[{\"id\": 28, \"name\": \"Action\"}, {\"id\": 12, \"nam...</td>\n      <td>http://www.skyfall-movie.com</td>\n      <td>NaN</td>\n      <td>[{\"id\": 470, \"name\": \"spy\"}, {\"id\": 4289, \"nam...</td>\n      <td>en</td>\n      <td>Skyfall</td>\n      <td>When Bond's latest assignment goes gravely wro...</td>\n      <td>93.004993</td>\n      <td>...</td>\n      <td>[{\"iso_3166_1\": \"GB\", \"name\": \"United Kingdom\"...</td>\n      <td>25-10-2012</td>\n      <td>1108561013</td>\n      <td>143.0</td>\n      <td>[{\"iso_639_1\": \"en\", \"name\": \"English\"}]</td>\n      <td>Released</td>\n      <td>Think on your sins.</td>\n      <td>Skyfall</td>\n      <td>6.9</td>\n      <td>7604</td>\n    </tr>\n    <tr>\n      <th>30</th>\n      <td>558</td>\n      <td>200000000</td>\n      <td>[{\"id\": 28, \"name\": \"Action\"}, {\"id\": 12, \"nam...</td>\n      <td>http://www.sonypictures.com/movies/spider-man2/</td>\n      <td>NaN</td>\n      <td>[{\"id\": 851, \"name\": \"dual identity\"}, {\"id\": ...</td>\n      <td>en</td>\n      <td>Spider-Man 2</td>\n      <td>Peter Parker is going through a major identity...</td>\n      <td>35.149586</td>\n      <td>...</td>\n      <td>[{\"iso_3166_1\": \"US\", \"name\": \"United States o...</td>\n      <td>25-06-2004</td>\n      <td>783766341</td>\n      <td>127.0</td>\n      <td>[{\"iso_639_1\": \"en\", \"name\": \"English\"}, {\"iso...</td>\n      <td>Released</td>\n      <td>There's a hero in all of us.</td>\n      <td>Spider-Man 2</td>\n      <td>6.7</td>\n      <td>4321</td>\n    </tr>\n    <tr>\n      <th>31</th>\n      <td>68721</td>\n      <td>200000000</td>\n      <td>[{\"id\": 28, \"name\": \"Action\"}, {\"id\": 12, \"nam...</td>\n      <td>http://marvel.com/ironman3</td>\n      <td>NaN</td>\n      <td>[{\"id\": 949, \"name\": \"terrorist\"}, {\"id\": 5597...</td>\n      <td>en</td>\n      <td>Iron Man 3</td>\n      <td>When Tony Stark's world is torn apart by a for...</td>\n      <td>77.682080</td>\n      <td>...</td>\n      <td>[{\"iso_3166_1\": \"CN\", \"name\": \"China\"}, {\"iso_...</td>\n      <td>18-04-2013</td>\n      <td>1215439994</td>\n      <td>130.0</td>\n      <td>[{\"iso_639_1\": \"en\", \"name\": \"English\"}]</td>\n      <td>Released</td>\n      <td>Unleash the power behind the armor.</td>\n      <td>Iron Man 3</td>\n      <td>6.8</td>\n      <td>8806</td>\n    </tr>\n    <tr>\n      <th>32</th>\n      <td>12155</td>\n      <td>200000000</td>\n      <td>[{\"id\": 10751, \"name\": \"Family\"}, {\"id\": 14, \"...</td>\n      <td>http://disney.go.com/wonderland/</td>\n      <td>NaN</td>\n      <td>[{\"id\": 818, \"name\": \"based on novel\"}, {\"id\":...</td>\n      <td>en</td>\n      <td>Alice in Wonderland</td>\n      <td>Alice, an unpretentious and individual 19-year...</td>\n      <td>78.530105</td>\n      <td>...</td>\n      <td>[{\"iso_3166_1\": \"US\", \"name\": \"United States o...</td>\n      <td>03-03-2010</td>\n      <td>1025491110</td>\n      <td>108.0</td>\n      <td>[{\"iso_639_1\": \"en\", \"name\": \"English\"}]</td>\n      <td>Released</td>\n      <td>You're invited to a very important date.</td>\n      <td>Alice in Wonderland</td>\n      <td>6.4</td>\n      <td>4645</td>\n    </tr>\n    <tr>\n      <th>33</th>\n      <td>36668</td>\n      <td>210000000</td>\n      <td>[{\"id\": 12, \"name\": \"Adventure\"}, {\"id\": 28, \"...</td>\n      <td>NaN</td>\n      <td>NaN</td>\n      <td>[{\"id\": 1852, \"name\": \"mutant\"}, {\"id\": 8828, ...</td>\n      <td>en</td>\n      <td>X-Men: The Last Stand</td>\n      <td>When a cure is found to treat mutations, lines...</td>\n      <td>3.857526</td>\n      <td>...</td>\n      <td>[{\"iso_3166_1\": \"CA\", \"name\": \"Canada\"}, {\"iso...</td>\n      <td>24-05-2006</td>\n      <td>459359555</td>\n      <td>104.0</td>\n      <td>[{\"iso_639_1\": \"en\", \"name\": \"English\"}]</td>\n      <td>Released</td>\n      <td>Take a Stand</td>\n      <td>X-Men: The Last Stand</td>\n      <td>6.3</td>\n      <td>3525</td>\n    </tr>\n    <tr>\n      <th>34</th>\n      <td>62211</td>\n      <td>200000000</td>\n      <td>[{\"id\": 16, \"name\": \"Animation\"}, {\"id\": 10751...</td>\n      <td>NaN</td>\n      <td>NaN</td>\n      <td>[{\"id\": 1299, \"name\": \"monster\"}, {\"id\": 5984,...</td>\n      <td>en</td>\n      <td>Monsters University</td>\n      <td>A look at the relationship between Mike and Su...</td>\n      <td>89.186492</td>\n      <td>...</td>\n      <td>[{\"iso_3166_1\": \"US\", \"name\": \"United States o...</td>\n      <td>20-06-2013</td>\n      <td>743559607</td>\n      <td>104.0</td>\n      <td>[{\"iso_639_1\": \"en\", \"name\": \"English\"}]</td>\n      <td>Released</td>\n      <td>School never looked this scary.</td>\n      <td>Monsters University</td>\n      <td>7.0</td>\n      <td>3528</td>\n    </tr>\n    <tr>\n      <th>35</th>\n      <td>8373</td>\n      <td>150000000</td>\n      <td>[{\"id\": 878, \"name\": \"Science Fiction\"}, {\"id\"...</td>\n      <td>http://www.transformersmovie.com/</td>\n      <td>NaN</td>\n      <td>[{\"id\": 1160, \"name\": \"egypt\"}, {\"id\": 1670, \"...</td>\n      <td>en</td>\n      <td>Transformers: Revenge of the Fallen</td>\n      <td>Sam Witwicky leaves the Autobots behind for a ...</td>\n      <td>21.939663</td>\n      <td>...</td>\n      <td>[{\"iso_3166_1\": \"US\", \"name\": \"United States o...</td>\n      <td>19-06-2009</td>\n      <td>836297228</td>\n      <td>150.0</td>\n      <td>[{\"iso_639_1\": \"en\", \"name\": \"English\"}, {\"iso...</td>\n      <td>Released</td>\n      <td>Revenge is coming.</td>\n      <td>Transformers: Revenge of the Fallen</td>\n      <td>6.0</td>\n      <td>3138</td>\n    </tr>\n    <tr>\n      <th>36</th>\n      <td>91314</td>\n      <td>210000000</td>\n      <td>[{\"id\": 878, \"name\": \"Science Fiction\"}, {\"id\"...</td>\n      <td>http://www.transformersmovie.com</td>\n      <td>NaN</td>\n      <td>[{\"id\": 9663, \"name\": \"sequel\"}, {\"id\": 9951, ...</td>\n      <td>en</td>\n      <td>Transformers: Age of Extinction</td>\n      <td>As humanity picks up the pieces, following the...</td>\n      <td>116.840296</td>\n      <td>...</td>\n      <td>[{\"iso_3166_1\": \"US\", \"name\": \"United States o...</td>\n      <td>25-06-2014</td>\n      <td>1091405097</td>\n      <td>165.0</td>\n      <td>[{\"iso_639_1\": \"en\", \"name\": \"English\"}]</td>\n      <td>Released</td>\n      <td>This is not war. It's extinction.</td>\n      <td>Transformers: Age of Extinction</td>\n      <td>5.8</td>\n      <td>3095</td>\n    </tr>\n    <tr>\n      <th>37</th>\n      <td>68728</td>\n      <td>200000000</td>\n      <td>[{\"id\": 14, \"name\": \"Fantasy\"}, {\"id\": 12, \"na...</td>\n      <td>http://www.ozthegreatandpowerfulmovie.com</td>\n      <td>NaN</td>\n      <td>[{\"id\": 291, \"name\": \"circus\"}, {\"id\": 616, \"n...</td>\n      <td>en</td>\n      <td>Oz: The Great and Powerful</td>\n      <td>Oscar Diggs, a small-time circus illusionist a...</td>\n      <td>46.985445</td>\n      <td>...</td>\n      <td>[{\"iso_3166_1\": \"US\", \"name\": \"United States o...</td>\n      <td>07-03-2013</td>\n      <td>491868548</td>\n      <td>130.0</td>\n      <td>[{\"iso_639_1\": \"en\", \"name\": \"English\"}]</td>\n      <td>Released</td>\n      <td>In Oz, nothing is what it seems</td>\n      <td>Oz: The Great and Powerful</td>\n      <td>5.7</td>\n      <td>3530</td>\n    </tr>\n    <tr>\n      <th>38</th>\n      <td>102382</td>\n      <td>200000000</td>\n      <td>[{\"id\": 28, \"name\": \"Action\"}, {\"id\": 12, \"nam...</td>\n      <td>http://www.theamazingspiderman.com</td>\n      <td>NaN</td>\n      <td>[{\"id\": 1523, \"name\": \"obsession\"}, {\"id\": 882...</td>\n      <td>en</td>\n      <td>The Amazing Spider-Man 2</td>\n      <td>For Peter Parker, life is busy. Between taking...</td>\n      <td>89.270217</td>\n      <td>...</td>\n      <td>[{\"iso_3166_1\": \"US\", \"name\": \"United States o...</td>\n      <td>16-04-2014</td>\n      <td>705717432</td>\n      <td>142.0</td>\n      <td>[{\"iso_639_1\": \"en\", \"name\": \"English\"}]</td>\n      <td>Released</td>\n      <td>No more secrets.</td>\n      <td>The Amazing Spider-Man 2</td>\n      <td>6.5</td>\n      <td>4179</td>\n    </tr>\n    <tr>\n      <th>39</th>\n      <td>20526</td>\n      <td>170000000</td>\n      <td>[{\"id\": 12, \"name\": \"Adventure\"}, {\"id\": 28, \"...</td>\n      <td>http://disney.go.com/tron/</td>\n      <td>NaN</td>\n      <td>[{\"id\": 310, \"name\": \"artificial intelligence\"...</td>\n      <td>en</td>\n      <td>TRON: Legacy</td>\n      <td>Sam Flynn, the tech-savvy and daring son of Ke...</td>\n      <td>73.795050</td>\n      <td>...</td>\n      <td>[{\"iso_3166_1\": \"US\", \"name\": \"United States o...</td>\n      <td>10-12-2010</td>\n      <td>400062763</td>\n      <td>125.0</td>\n      <td>[{\"iso_639_1\": \"en\", \"name\": \"English\"}]</td>\n      <td>Released</td>\n      <td>The Game Has Changed.</td>\n      <td>TRON: Legacy</td>\n      <td>6.3</td>\n      <td>2841</td>\n    </tr>\n    <tr>\n      <th>40</th>\n      <td>49013</td>\n      <td>200000000</td>\n      <td>[{\"id\": 16, \"name\": \"Animation\"}, {\"id\": 10751...</td>\n      <td>http://www.disney.go.com/cars/</td>\n      <td>NaN</td>\n      <td>[{\"id\": 830, \"name\": \"car race\"}, {\"id\": 9663,...</td>\n      <td>en</td>\n      <td>Cars 2</td>\n      <td>Star race car Lightning McQueen and his pal Ma...</td>\n      <td>49.986590</td>\n      <td>...</td>\n      <td>[{\"iso_3166_1\": \"US\", \"name\": \"United States o...</td>\n      <td>11-06-2011</td>\n      <td>559852396</td>\n      <td>106.0</td>\n      <td>[{\"iso_639_1\": \"en\", \"name\": \"English\"}, {\"iso...</td>\n      <td>Released</td>\n      <td>Ka-ciao!</td>\n      <td>Cars 2</td>\n      <td>5.8</td>\n      <td>2033</td>\n    </tr>\n    <tr>\n      <th>41</th>\n      <td>44912</td>\n      <td>200000000</td>\n      <td>[{\"id\": 12, \"name\": \"Adventure\"}, {\"id\": 28, \"...</td>\n      <td>http://greenlanternmovie.warnerbros.com/</td>\n      <td>NaN</td>\n      <td>[{\"id\": 849, \"name\": \"dc comics\"}, {\"id\": 4375...</td>\n      <td>en</td>\n      <td>Green Lantern</td>\n      <td>For centuries, a small but powerful force of w...</td>\n      <td>51.872839</td>\n      <td>...</td>\n      <td>[{\"iso_3166_1\": \"US\", \"name\": \"United States o...</td>\n      <td>16-06-2011</td>\n      <td>219851172</td>\n      <td>114.0</td>\n      <td>[{\"iso_639_1\": \"en\", \"name\": \"English\"}]</td>\n      <td>Released</td>\n      <td>In our darkest hour, there will be light.</td>\n      <td>Green Lantern</td>\n      <td>5.1</td>\n      <td>2487</td>\n    </tr>\n    <tr>\n      <th>42</th>\n      <td>10193</td>\n      <td>200000000</td>\n      <td>[{\"id\": 16, \"name\": \"Animation\"}, {\"id\": 10751...</td>\n      <td>http://disney.go.com/toystory/</td>\n      <td>NaN</td>\n      <td>[{\"id\": 1562, \"name\": \"hostage\"}, {\"id\": 3616,...</td>\n      <td>en</td>\n      <td>Toy Story 3</td>\n      <td>Woody, Buzz, and the rest of Andy's toys haven...</td>\n      <td>59.995418</td>\n      <td>...</td>\n      <td>[{\"iso_3166_1\": \"US\", \"name\": \"United States o...</td>\n      <td>16-06-2010</td>\n      <td>1066969703</td>\n      <td>103.0</td>\n      <td>[{\"iso_639_1\": \"en\", \"name\": \"English\"}, {\"iso...</td>\n      <td>Released</td>\n      <td>No toy gets left behind.</td>\n      <td>Toy Story 3</td>\n      <td>7.6</td>\n      <td>4597</td>\n    </tr>\n    <tr>\n      <th>43</th>\n      <td>534</td>\n      <td>200000000</td>\n      <td>[{\"id\": 28, \"name\": \"Action\"}, {\"id\": 878, \"na...</td>\n      <td>https://www.warnerbros.com/terminator-salvation</td>\n      <td>NaN</td>\n      <td>[{\"id\": 83, \"name\": \"saving the world\"}, {\"id\"...</td>\n      <td>en</td>\n      <td>Terminator Salvation</td>\n      <td>All grown up in post-apocalyptic 2018, John Co...</td>\n      <td>71.862892</td>\n      <td>...</td>\n      <td>[{\"iso_3166_1\": \"DE\", \"name\": \"Germany\"}, {\"is...</td>\n      <td>20-05-2009</td>\n      <td>371353001</td>\n      <td>115.0</td>\n      <td>[{\"iso_639_1\": \"en\", \"name\": \"English\"}, {\"iso...</td>\n      <td>Released</td>\n      <td>The End Begins.</td>\n      <td>Terminator Salvation</td>\n      <td>5.9</td>\n      <td>2463</td>\n    </tr>\n    <tr>\n      <th>44</th>\n      <td>168259</td>\n      <td>190000000</td>\n      <td>[{\"id\": 28, \"name\": \"Action\"}]</td>\n      <td>http://www.furious7.com/</td>\n      <td>NaN</td>\n      <td>[{\"id\": 830, \"name\": \"car race\"}, {\"id\": 3428,...</td>\n      <td>en</td>\n      <td>Furious 7</td>\n      <td>Deckard Shaw seeks revenge against Dominic Tor...</td>\n      <td>102.322217</td>\n      <td>...</td>\n      <td>[{\"iso_3166_1\": \"JP\", \"name\": \"Japan\"}, {\"iso_...</td>\n      <td>01-04-2015</td>\n      <td>1506249360</td>\n      <td>137.0</td>\n      <td>[{\"iso_639_1\": \"en\", \"name\": \"English\"}]</td>\n      <td>Released</td>\n      <td>Vengeance Hits Home</td>\n      <td>Furious 7</td>\n      <td>7.3</td>\n      <td>4176</td>\n    </tr>\n    <tr>\n      <th>45</th>\n      <td>72190</td>\n      <td>200000000</td>\n      <td>[{\"id\": 28, \"name\": \"Action\"}, {\"id\": 18, \"nam...</td>\n      <td>http://www.worldwarzmovie.com</td>\n      <td>NaN</td>\n      <td>[{\"id\": 4565, \"name\": \"dystopia\"}, {\"id\": 1233...</td>\n      <td>en</td>\n      <td>World War Z</td>\n      <td>Life for former United Nations investigator Ge...</td>\n      <td>81.834855</td>\n      <td>...</td>\n      <td>[{\"iso_3166_1\": \"US\", \"name\": \"United States o...</td>\n      <td>20-06-2013</td>\n      <td>531865000</td>\n      <td>116.0</td>\n      <td>[{\"iso_639_1\": \"en\", \"name\": \"English\"}]</td>\n      <td>Released</td>\n      <td>Remember Philly!</td>\n      <td>World War Z</td>\n      <td>6.7</td>\n      <td>5560</td>\n    </tr>\n    <tr>\n      <th>46</th>\n      <td>127585</td>\n      <td>250000000</td>\n      <td>[{\"id\": 28, \"name\": \"Action\"}, {\"id\": 12, \"nam...</td>\n      <td>http://www.x-menmovies.com/</td>\n      <td>NaN</td>\n      <td>[{\"id\": 1228, \"name\": \"1970s\"}, {\"id\": 1852, \"...</td>\n      <td>en</td>\n      <td>X-Men: Days of Future Past</td>\n      <td>The ultimate X-Men ensemble fights a war for t...</td>\n      <td>118.078691</td>\n      <td>...</td>\n      <td>[{\"iso_3166_1\": \"GB\", \"name\": \"United Kingdom\"...</td>\n      <td>15-05-2014</td>\n      <td>747862775</td>\n      <td>131.0</td>\n      <td>[{\"iso_639_1\": \"en\", \"name\": \"English\"}]</td>\n      <td>Released</td>\n      <td>To save the future, they must alter the past</td>\n      <td>X-Men: Days of Future Past</td>\n      <td>7.5</td>\n      <td>6032</td>\n    </tr>\n    <tr>\n      <th>47</th>\n      <td>54138</td>\n      <td>190000000</td>\n      <td>[{\"id\": 28, \"name\": \"Action\"}, {\"id\": 12, \"nam...</td>\n      <td>NaN</td>\n      <td>NaN</td>\n      <td>[{\"id\": 1612, \"name\": \"spacecraft\"}, {\"id\": 60...</td>\n      <td>en</td>\n      <td>Star Trek Into Darkness</td>\n      <td>When the crew of the Enterprise is called back...</td>\n      <td>78.291018</td>\n      <td>...</td>\n      <td>[{\"iso_3166_1\": \"US\", \"name\": \"United States o...</td>\n      <td>05-05-2013</td>\n      <td>467365246</td>\n      <td>132.0</td>\n      <td>[{\"iso_639_1\": \"en\", \"name\": \"English\"}]</td>\n      <td>Released</td>\n      <td>Earth Will Fall</td>\n      <td>Star Trek Into Darkness</td>\n      <td>7.4</td>\n      <td>4418</td>\n    </tr>\n    <tr>\n      <th>48</th>\n      <td>81005</td>\n      <td>195000000</td>\n      <td>[{\"id\": 28, \"name\": \"Action\"}, {\"id\": 10751, \"...</td>\n      <td>http://jackthegiantkiller.warnerbros.com</td>\n      <td>NaN</td>\n      <td>[{\"id\": 179411, \"name\": \"based on fairy tale\"}...</td>\n      <td>en</td>\n      <td>Jack the Giant Slayer</td>\n      <td>The story of an ancient war that is reignited ...</td>\n      <td>43.349855</td>\n      <td>...</td>\n      <td>[{\"iso_3166_1\": \"US\", \"name\": \"United States o...</td>\n      <td>27-02-2013</td>\n      <td>197687603</td>\n      <td>114.0</td>\n      <td>[{\"iso_639_1\": \"en\", \"name\": \"English\"}]</td>\n      <td>Released</td>\n      <td>Prepare for a giant adventure</td>\n      <td>Jack the Giant Slayer</td>\n      <td>5.5</td>\n      <td>2598</td>\n    </tr>\n    <tr>\n      <th>49</th>\n      <td>64682</td>\n      <td>105000000</td>\n      <td>[{\"id\": 18, \"name\": \"Drama\"}, {\"id\": 10749, \"n...</td>\n      <td>NaN</td>\n      <td>NaN</td>\n      <td>[{\"id\": 818, \"name\": \"based on novel\"}, {\"id\":...</td>\n      <td>en</td>\n      <td>The Great Gatsby</td>\n      <td>An adaptation of F. Scott Fitzgerald's Long Is...</td>\n      <td>61.196071</td>\n      <td>...</td>\n      <td>[{\"iso_3166_1\": \"US\", \"name\": \"United States o...</td>\n      <td>10-05-2013</td>\n      <td>351040419</td>\n      <td>143.0</td>\n      <td>[{\"iso_639_1\": \"en\", \"name\": \"English\"}]</td>\n      <td>Released</td>\n      <td>Reserving judgments is a matter of infinite ho...</td>\n      <td>The Great Gatsby</td>\n      <td>7.3</td>\n      <td>3769</td>\n    </tr>\n  </tbody>\n</table>\n<p>50 rows × 21 columns</p>\n</div>"
     },
     "execution_count": 77,
     "metadata": {},
     "output_type": "execute_result"
    }
   ],
   "source": [
    "movies.head(50)"
   ]
  },
  {
   "cell_type": "code",
   "execution_count": 78,
   "metadata": {
    "colab": {
     "base_uri": "https://localhost:8080/",
     "height": 174
    },
    "id": "o4Jm6VqDnezO",
    "outputId": "6e2ee443-e77a-4708-c985-bff86e992fa6",
    "ExecuteTime": {
     "end_time": "2023-07-03T14:34:25.126006200Z",
     "start_time": "2023-07-03T14:34:25.118188300Z"
    }
   },
   "outputs": [
    {
     "data": {
      "text/plain": "'[{\"id\": 1463, \"name\": \"culture clash\"}, {\"id\": 2964, \"name\": \"future\"}, {\"id\": 3386, \"name\": \"space war\"}, {\"id\": 3388, \"name\": \"space colony\"}, {\"id\": 3679, \"name\": \"society\"}, {\"id\": 3801, \"name\": \"space travel\"}, {\"id\": 9685, \"name\": \"futuristic\"}, {\"id\": 9840, \"name\": \"romance\"}, {\"id\": 9882, \"name\": \"space\"}, {\"id\": 9951, \"name\": \"alien\"}, {\"id\": 10148, \"name\": \"tribe\"}, {\"id\": 10158, \"name\": \"alien planet\"}, {\"id\": 10987, \"name\": \"cgi\"}, {\"id\": 11399, \"name\": \"marine\"}, {\"id\": 13065, \"name\": \"soldier\"}, {\"id\": 14643, \"name\": \"battle\"}, {\"id\": 14720, \"name\": \"love affair\"}, {\"id\": 165431, \"name\": \"anti war\"}, {\"id\": 193554, \"name\": \"power relations\"}, {\"id\": 206690, \"name\": \"mind and soul\"}, {\"id\": 209714, \"name\": \"3d\"}]'"
     },
     "execution_count": 78,
     "metadata": {},
     "output_type": "execute_result"
    }
   ],
   "source": [
    "\n",
    "movies[\"keywords\"][0]"
   ]
  },
  {
   "cell_type": "code",
   "execution_count": 79,
   "metadata": {
    "colab": {
     "base_uri": "https://localhost:8080/",
     "height": 36
    },
    "id": "q0LjJ07FnfS6",
    "outputId": "ff0ece4b-f230-49cd-dadf-c347f9ee99fc",
    "ExecuteTime": {
     "end_time": "2023-07-03T14:34:25.142556400Z",
     "start_time": "2023-07-03T14:34:25.128823800Z"
    }
   },
   "outputs": [
    {
     "data": {
      "text/plain": "'Enter the World of Pandora.'"
     },
     "execution_count": 79,
     "metadata": {},
     "output_type": "execute_result"
    }
   ],
   "source": [
    "\n",
    "movies[\"tagline\"][0]"
   ]
  },
  {
   "cell_type": "code",
   "execution_count": 80,
   "metadata": {
    "colab": {
     "base_uri": "https://localhost:8080/",
     "height": 70
    },
    "id": "yk9dTdHqpzQQ",
    "outputId": "7f2cdcb4-1539-40d4-fb1c-f91fee90fdb9",
    "ExecuteTime": {
     "end_time": "2023-07-03T14:34:25.226057500Z",
     "start_time": "2023-07-03T14:34:25.147437200Z"
    }
   },
   "outputs": [
    {
     "data": {
      "text/plain": "'In the 22nd century, a paraplegic Marine is dispatched to the moon Pandora on a unique mission, but becomes torn between following orders and protecting an alien civilization.'"
     },
     "execution_count": 80,
     "metadata": {},
     "output_type": "execute_result"
    }
   ],
   "source": [
    "movies[\"overview\"][0]"
   ]
  },
  {
   "cell_type": "code",
   "execution_count": 81,
   "metadata": {
    "id": "1YfA-0p1p7yH",
    "ExecuteTime": {
     "end_time": "2023-07-03T14:34:25.797126100Z",
     "start_time": "2023-07-03T14:34:25.157784400Z"
    }
   },
   "outputs": [],
   "source": [
    "df2=pd.read_csv(\"movie_credit.csv\")"
   ]
  },
  {
   "cell_type": "code",
   "execution_count": 82,
   "metadata": {
    "colab": {
     "base_uri": "https://localhost:8080/",
     "height": 423
    },
    "id": "06KKpkDoqMcA",
    "outputId": "5796882c-7778-4f85-fcf4-0c18785180ee",
    "ExecuteTime": {
     "end_time": "2023-07-03T14:34:25.813080600Z",
     "start_time": "2023-07-03T14:34:25.801665700Z"
    }
   },
   "outputs": [
    {
     "data": {
      "text/plain": "   movie_id                                     title  \\\n0     19995                                    Avatar   \n1       285  Pirates of the Caribbean: At World's End   \n2    206647                                   Spectre   \n3     49026                     The Dark Knight Rises   \n4     49529                               John Carter   \n\n                                                cast  \\\n0  [{\"cast_id\": 242, \"character\": \"Jake Sully\", \"...   \n1  [{\"cast_id\": 4, \"character\": \"Captain Jack Spa...   \n2  [{\"cast_id\": 1, \"character\": \"James Bond\", \"cr...   \n3  [{\"cast_id\": 2, \"character\": \"Bruce Wayne / Ba...   \n4  [{\"cast_id\": 5, \"character\": \"John Carter\", \"c...   \n\n                                                crew  \n0  [{\"credit_id\": \"52fe48009251416c750aca23\", \"de...  \n1  [{\"credit_id\": \"52fe4232c3a36847f800b579\", \"de...  \n2  [{\"credit_id\": \"54805967c3a36829b5002c41\", \"de...  \n3  [{\"credit_id\": \"52fe4781c3a36847f81398c3\", \"de...  \n4  [{\"credit_id\": \"52fe479ac3a36847f813eaa3\", \"de...  ",
      "text/html": "<div>\n<style scoped>\n    .dataframe tbody tr th:only-of-type {\n        vertical-align: middle;\n    }\n\n    .dataframe tbody tr th {\n        vertical-align: top;\n    }\n\n    .dataframe thead th {\n        text-align: right;\n    }\n</style>\n<table border=\"1\" class=\"dataframe\">\n  <thead>\n    <tr style=\"text-align: right;\">\n      <th></th>\n      <th>movie_id</th>\n      <th>title</th>\n      <th>cast</th>\n      <th>crew</th>\n    </tr>\n  </thead>\n  <tbody>\n    <tr>\n      <th>0</th>\n      <td>19995</td>\n      <td>Avatar</td>\n      <td>[{\"cast_id\": 242, \"character\": \"Jake Sully\", \"...</td>\n      <td>[{\"credit_id\": \"52fe48009251416c750aca23\", \"de...</td>\n    </tr>\n    <tr>\n      <th>1</th>\n      <td>285</td>\n      <td>Pirates of the Caribbean: At World's End</td>\n      <td>[{\"cast_id\": 4, \"character\": \"Captain Jack Spa...</td>\n      <td>[{\"credit_id\": \"52fe4232c3a36847f800b579\", \"de...</td>\n    </tr>\n    <tr>\n      <th>2</th>\n      <td>206647</td>\n      <td>Spectre</td>\n      <td>[{\"cast_id\": 1, \"character\": \"James Bond\", \"cr...</td>\n      <td>[{\"credit_id\": \"54805967c3a36829b5002c41\", \"de...</td>\n    </tr>\n    <tr>\n      <th>3</th>\n      <td>49026</td>\n      <td>The Dark Knight Rises</td>\n      <td>[{\"cast_id\": 2, \"character\": \"Bruce Wayne / Ba...</td>\n      <td>[{\"credit_id\": \"52fe4781c3a36847f81398c3\", \"de...</td>\n    </tr>\n    <tr>\n      <th>4</th>\n      <td>49529</td>\n      <td>John Carter</td>\n      <td>[{\"cast_id\": 5, \"character\": \"John Carter\", \"c...</td>\n      <td>[{\"credit_id\": \"52fe479ac3a36847f813eaa3\", \"de...</td>\n    </tr>\n  </tbody>\n</table>\n</div>"
     },
     "execution_count": 82,
     "metadata": {},
     "output_type": "execute_result"
    }
   ],
   "source": [
    "df2.head()"
   ]
  },
  {
   "cell_type": "code",
   "execution_count": 83,
   "metadata": {
    "colab": {
     "base_uri": "https://localhost:8080/"
    },
    "id": "KaH8OrhjqQ61",
    "outputId": "828fb943-a01d-49e6-b9d7-d85df66982b5",
    "ExecuteTime": {
     "end_time": "2023-07-03T14:34:25.868826600Z",
     "start_time": "2023-07-03T14:34:25.813080600Z"
    }
   },
   "outputs": [
    {
     "data": {
      "text/plain": "0       [{\"cast_id\": 242, \"character\": \"Jake Sully\", \"...\n1       [{\"cast_id\": 4, \"character\": \"Captain Jack Spa...\n2       [{\"cast_id\": 1, \"character\": \"James Bond\", \"cr...\n3       [{\"cast_id\": 2, \"character\": \"Bruce Wayne / Ba...\n4       [{\"cast_id\": 5, \"character\": \"John Carter\", \"c...\n                              ...                        \n4798    [{\"cast_id\": 1, \"character\": \"El Mariachi\", \"c...\n4799    [{\"cast_id\": 1, \"character\": \"Buzzy\", \"credit_...\n4800    [{\"cast_id\": 8, \"character\": \"Oliver O\\u2019To...\n4801    [{\"cast_id\": 3, \"character\": \"Sam\", \"credit_id...\n4802    [{\"cast_id\": 3, \"character\": \"Herself\", \"credi...\nName: cast, Length: 4803, dtype: object"
     },
     "execution_count": 83,
     "metadata": {},
     "output_type": "execute_result"
    }
   ],
   "source": [
    "\n",
    "df2[\"cast\"]"
   ]
  },
  {
   "cell_type": "code",
   "execution_count": 84,
   "metadata": {
    "id": "1MYZXUd2qXNU",
    "ExecuteTime": {
     "end_time": "2023-07-03T14:34:26.054572200Z",
     "start_time": "2023-07-03T14:34:25.837618100Z"
    }
   },
   "outputs": [],
   "source": [
    "movies=movies.merge(df2,on=\"title\")"
   ]
  },
  {
   "cell_type": "code",
   "execution_count": 85,
   "metadata": {
    "colab": {
     "base_uri": "https://localhost:8080/"
    },
    "id": "AviXGG0TqkFa",
    "outputId": "e2d7522f-5c94-4615-d8e9-d95bf0f35a27",
    "ExecuteTime": {
     "end_time": "2023-07-03T14:34:26.078023200Z",
     "start_time": "2023-07-03T14:34:25.928027300Z"
    }
   },
   "outputs": [
    {
     "name": "stdout",
     "output_type": "stream",
     "text": [
      "<class 'pandas.core.frame.DataFrame'>\n",
      "RangeIndex: 4808 entries, 0 to 4807\n",
      "Data columns (total 24 columns):\n",
      " #   Column                Non-Null Count  Dtype  \n",
      "---  ------                --------------  -----  \n",
      " 0   movie_id_x            4808 non-null   int64  \n",
      " 1   budget                4808 non-null   int64  \n",
      " 2   genres                4808 non-null   object \n",
      " 3   homepage              1713 non-null   object \n",
      " 4   Unnamed: 4            0 non-null      float64\n",
      " 5   keywords              4808 non-null   object \n",
      " 6   original_language     4808 non-null   object \n",
      " 7   original_title        4808 non-null   object \n",
      " 8   overview              4805 non-null   object \n",
      " 9   popularity            4808 non-null   float64\n",
      " 10  production_companies  4808 non-null   object \n",
      " 11  production_countries  4808 non-null   object \n",
      " 12  release_date          4807 non-null   object \n",
      " 13  revenue               4808 non-null   int64  \n",
      " 14  runtime               4806 non-null   float64\n",
      " 15  spoken_languages      4808 non-null   object \n",
      " 16  status                4808 non-null   object \n",
      " 17  tagline               3964 non-null   object \n",
      " 18  title                 4808 non-null   object \n",
      " 19  vote_average          4808 non-null   float64\n",
      " 20  vote_count            4808 non-null   int64  \n",
      " 21  movie_id_y            4808 non-null   int64  \n",
      " 22  cast                  4808 non-null   object \n",
      " 23  crew                  4808 non-null   object \n",
      "dtypes: float64(4), int64(5), object(15)\n",
      "memory usage: 901.6+ KB\n"
     ]
    }
   ],
   "source": [
    "\n",
    "movies.info()"
   ]
  },
  {
   "cell_type": "code",
   "execution_count": 86,
   "metadata": {
    "id": "pfivPuhpqmXE",
    "ExecuteTime": {
     "end_time": "2023-07-03T14:34:26.078023200Z",
     "start_time": "2023-07-03T14:34:25.980205100Z"
    }
   },
   "outputs": [],
   "source": [
    "import ast\n",
    "def str_list(x):\n",
    "  x=ast.literal_eval(x)\n",
    "  l=[]\n",
    "  for item in x:\n",
    "\n",
    "    l.append(item['name'])\n",
    "\n",
    "  return l"
   ]
  },
  {
   "cell_type": "code",
   "execution_count": 87,
   "metadata": {
    "id": "2uSJp_iQqvX_",
    "ExecuteTime": {
     "end_time": "2023-07-03T14:34:30.688371600Z",
     "start_time": "2023-07-03T14:34:25.986440600Z"
    }
   },
   "outputs": [],
   "source": [
    "movies[\"cast\"]=movies[\"cast\"].apply(str_list)"
   ]
  },
  {
   "cell_type": "code",
   "execution_count": 88,
   "metadata": {
    "id": "kHFsNA_qq0nq",
    "ExecuteTime": {
     "end_time": "2023-07-03T14:34:30.697514600Z",
     "start_time": "2023-07-03T14:34:30.688371600Z"
    }
   },
   "outputs": [],
   "source": [
    "import ast\n",
    "def str2_list(x):\n",
    "  x=ast.literal_eval(x)\n",
    "  l=[]\n",
    "  for item in x:\n",
    "    if item['job']==\"Director\":\n",
    "      l.append(item['name'])\n",
    "\n",
    "  return l"
   ]
  },
  {
   "cell_type": "code",
   "execution_count": 89,
   "metadata": {
    "id": "KcL8QZKzq5rX",
    "ExecuteTime": {
     "end_time": "2023-07-03T14:34:34.294233100Z",
     "start_time": "2023-07-03T14:34:30.703057700Z"
    }
   },
   "outputs": [],
   "source": [
    "movies[\"crew\"]=movies[\"crew\"].apply(str2_list)"
   ]
  },
  {
   "cell_type": "code",
   "execution_count": 90,
   "metadata": {
    "colab": {
     "base_uri": "https://localhost:8080/"
    },
    "id": "2cpUCA4Jq6M8",
    "outputId": "2a870ad3-a36a-4773-f8b5-b1f7463ea04d",
    "ExecuteTime": {
     "end_time": "2023-07-03T14:34:34.312050300Z",
     "start_time": "2023-07-03T14:34:34.297622Z"
    }
   },
   "outputs": [
    {
     "data": {
      "text/plain": "0       [Sam Worthington, Zoe Saldana, Sigourney Weave...\n1       [Johnny Depp, Orlando Bloom, Keira Knightley, ...\n2       [Daniel Craig, Christoph Waltz, Léa Seydoux, R...\n3       [Christian Bale, Michael Caine, Gary Oldman, A...\n4       [Taylor Kitsch, Lynn Collins, Samantha Morton,...\n                              ...                        \n4803    [Carlos Gallardo, Jaime de Hoyos, Peter Marqua...\n4804    [Edward Burns, Kerry Bishé, Marsha Dietlein, C...\n4805    [Eric Mabius, Kristin Booth, Crystal Lowe, Geo...\n4806    [Daniel Henney, Eliza Coupe, Bill Paxton, Alan...\n4807    [Drew Barrymore, Brian Herzlinger, Corey Feldm...\nName: cast, Length: 4808, dtype: object"
     },
     "execution_count": 90,
     "metadata": {},
     "output_type": "execute_result"
    }
   ],
   "source": [
    "movies[\"cast\"]"
   ]
  },
  {
   "cell_type": "code",
   "execution_count": 91,
   "metadata": {
    "colab": {
     "base_uri": "https://localhost:8080/"
    },
    "id": "FzYEZmV0q6pR",
    "outputId": "2cb217e1-12ed-40bc-dd2c-4c54c5577dfe",
    "ExecuteTime": {
     "end_time": "2023-07-03T14:34:34.324989700Z",
     "start_time": "2023-07-03T14:34:34.312538200Z"
    }
   },
   "outputs": [
    {
     "data": {
      "text/plain": "0                                [James Cameron]\n1                               [Gore Verbinski]\n2                                   [Sam Mendes]\n3                            [Christopher Nolan]\n4                               [Andrew Stanton]\n                          ...                   \n4803                          [Robert Rodriguez]\n4804                              [Edward Burns]\n4805                               [Scott Smith]\n4806                               [Daniel Hsia]\n4807    [Brian Herzlinger, Jon Gunn, Brett Winn]\nName: crew, Length: 4808, dtype: object"
     },
     "execution_count": 91,
     "metadata": {},
     "output_type": "execute_result"
    }
   ],
   "source": [
    "movies[\"crew\"]"
   ]
  },
  {
   "cell_type": "code",
   "execution_count": 92,
   "metadata": {
    "id": "BDz6KkshrTUB",
    "ExecuteTime": {
     "end_time": "2023-07-03T14:34:34.949132600Z",
     "start_time": "2023-07-03T14:34:34.325995100Z"
    }
   },
   "outputs": [],
   "source": [
    "movies[\"genres\"]=movies['genres'].apply(str_list)\n",
    "movies[\"keywords\"]=movies['keywords'].apply(str_list)"
   ]
  },
  {
   "cell_type": "code",
   "execution_count": 93,
   "metadata": {
    "colab": {
     "base_uri": "https://localhost:8080/"
    },
    "id": "QiPgUjk0rT1z",
    "outputId": "345eaca8-af22-480d-ebaa-175844e7455d",
    "ExecuteTime": {
     "end_time": "2023-07-03T14:34:34.950319Z",
     "start_time": "2023-07-03T14:34:34.924749600Z"
    }
   },
   "outputs": [
    {
     "data": {
      "text/plain": "movie_id_x                 0\nbudget                     0\ngenres                     0\nhomepage                3095\nUnnamed: 4              4808\nkeywords                   0\noriginal_language          0\noriginal_title             0\noverview                   3\npopularity                 0\nproduction_companies       0\nproduction_countries       0\nrelease_date               1\nrevenue                    0\nruntime                    2\nspoken_languages           0\nstatus                     0\ntagline                  844\ntitle                      0\nvote_average               0\nvote_count                 0\nmovie_id_y                 0\ncast                       0\ncrew                       0\ndtype: int64"
     },
     "execution_count": 93,
     "metadata": {},
     "output_type": "execute_result"
    }
   ],
   "source": [
    "movies.isna().sum()"
   ]
  },
  {
   "cell_type": "code",
   "execution_count": 94,
   "metadata": {
    "colab": {
     "base_uri": "https://localhost:8080/",
     "height": 750
    },
    "id": "56zbbCv_rUe5",
    "outputId": "de88e316-4372-4e68-d6a3-71c4e18b8934",
    "ExecuteTime": {
     "end_time": "2023-07-03T14:34:34.963160400Z",
     "start_time": "2023-07-03T14:34:34.949816800Z"
    }
   },
   "outputs": [
    {
     "data": {
      "text/plain": "      movie_id_x   budget                              genres  \\\n4769      326576        0  [Thriller, Drama, Science Fiction]   \n4120       10656  2000000                  [Action, Thriller]   \n4477       74725   500000           [Horror, Thriller, Crime]   \n1928       10655        0               [War, Drama, History]   \n3961      100975  3000000                     [Drama, Comedy]   \n\n                       homepage  Unnamed: 4  \\\n4769                        NaN         NaN   \n4120                        NaN         NaN   \n4477  http://www.kill-list.com/         NaN   \n1928                        NaN         NaN   \n3961                        NaN         NaN   \n\n                                               keywords original_language  \\\n4769                                                 []                en   \n4120  [paris, culture clash, subway, metropolis, bla...                fr   \n4477  [hotel, wife husband relationship, hitman, inf...                en   \n1928  [civil war, independence, troops, army, battle...                en   \n3961  [new york, nurse, sex, infidelity, nudity, rom...                en   \n\n                 original_title  \\\n4769  Dawn of the Crescent Moon   \n4120                     Subway   \n4477                  Kill List   \n1928                 Gettysburg   \n3961               Just Looking   \n\n                                               overview  popularity  ...  \\\n4769  A group of college students travel to a small ...    0.049469  ...   \n4120  Fred, a raffish safe blower, takes refuge in t...    5.261065  ...   \n4477  Nearly a year after a botched job, a hitman ta...   12.203041  ...   \n1928  Summer 1863. The Confederacy pushes north into...    5.529035  ...   \n3961  It's 1955. Lenny is a 14-year old boy who is t...    0.431332  ...   \n\n     runtime                                   spoken_languages    status  \\\n4769    95.0           [{\"iso_639_1\": \"en\", \"name\": \"English\"}]  Released   \n4120   104.0     [{\"iso_639_1\": \"fr\", \"name\": \"Fran\\u00e7ais\"}]  Released   \n4477    95.0  [{\"iso_639_1\": \"sv\", \"name\": \"svenska\"}, {\"iso...  Released   \n1928   254.0           [{\"iso_639_1\": \"en\", \"name\": \"English\"}]  Released   \n3961    97.0           [{\"iso_639_1\": \"en\", \"name\": \"English\"}]  Released   \n\n                                          tagline                      title  \\\n4769                         The past is present.  Dawn of the Crescent Moon   \n4120  An underground story where lives intertwine                     Subway   \n4477                                          NaN                  Kill List   \n1928                                          NaN                 Gettysburg   \n3961          A voyeuristic coming-of-age comedy.               Just Looking   \n\n     vote_average vote_count movie_id_y  \\\n4769          2.0          1     326576   \n4120          6.3         86      10656   \n4477          6.0        210      74725   \n1928          6.6         90      10655   \n3961          5.8          5     100975   \n\n                                                   cast                 crew  \n4769  [Barry Corbin, Brooke Coleman, Kurt Cole, Bran...        [Kirk Loudon]  \n4120  [Isabelle Adjani, Christopher Lambert, Richard...         [Luc Besson]  \n4477  [Neil Maskell, MyAnna Buring, Harry Simpson, M...       [Ben Wheatley]  \n1928  [Jeff Daniels, Tom Berenger, Martin Sheen, Sam...  [Ronald F. Maxwell]  \n3961  [Gretchen Mol, Patti LuPone, Peter Onorati, Ry...    [Jason Alexander]  \n\n[5 rows x 24 columns]",
      "text/html": "<div>\n<style scoped>\n    .dataframe tbody tr th:only-of-type {\n        vertical-align: middle;\n    }\n\n    .dataframe tbody tr th {\n        vertical-align: top;\n    }\n\n    .dataframe thead th {\n        text-align: right;\n    }\n</style>\n<table border=\"1\" class=\"dataframe\">\n  <thead>\n    <tr style=\"text-align: right;\">\n      <th></th>\n      <th>movie_id_x</th>\n      <th>budget</th>\n      <th>genres</th>\n      <th>homepage</th>\n      <th>Unnamed: 4</th>\n      <th>keywords</th>\n      <th>original_language</th>\n      <th>original_title</th>\n      <th>overview</th>\n      <th>popularity</th>\n      <th>...</th>\n      <th>runtime</th>\n      <th>spoken_languages</th>\n      <th>status</th>\n      <th>tagline</th>\n      <th>title</th>\n      <th>vote_average</th>\n      <th>vote_count</th>\n      <th>movie_id_y</th>\n      <th>cast</th>\n      <th>crew</th>\n    </tr>\n  </thead>\n  <tbody>\n    <tr>\n      <th>4769</th>\n      <td>326576</td>\n      <td>0</td>\n      <td>[Thriller, Drama, Science Fiction]</td>\n      <td>NaN</td>\n      <td>NaN</td>\n      <td>[]</td>\n      <td>en</td>\n      <td>Dawn of the Crescent Moon</td>\n      <td>A group of college students travel to a small ...</td>\n      <td>0.049469</td>\n      <td>...</td>\n      <td>95.0</td>\n      <td>[{\"iso_639_1\": \"en\", \"name\": \"English\"}]</td>\n      <td>Released</td>\n      <td>The past is present.</td>\n      <td>Dawn of the Crescent Moon</td>\n      <td>2.0</td>\n      <td>1</td>\n      <td>326576</td>\n      <td>[Barry Corbin, Brooke Coleman, Kurt Cole, Bran...</td>\n      <td>[Kirk Loudon]</td>\n    </tr>\n    <tr>\n      <th>4120</th>\n      <td>10656</td>\n      <td>2000000</td>\n      <td>[Action, Thriller]</td>\n      <td>NaN</td>\n      <td>NaN</td>\n      <td>[paris, culture clash, subway, metropolis, bla...</td>\n      <td>fr</td>\n      <td>Subway</td>\n      <td>Fred, a raffish safe blower, takes refuge in t...</td>\n      <td>5.261065</td>\n      <td>...</td>\n      <td>104.0</td>\n      <td>[{\"iso_639_1\": \"fr\", \"name\": \"Fran\\u00e7ais\"}]</td>\n      <td>Released</td>\n      <td>An underground story where lives intertwine</td>\n      <td>Subway</td>\n      <td>6.3</td>\n      <td>86</td>\n      <td>10656</td>\n      <td>[Isabelle Adjani, Christopher Lambert, Richard...</td>\n      <td>[Luc Besson]</td>\n    </tr>\n    <tr>\n      <th>4477</th>\n      <td>74725</td>\n      <td>500000</td>\n      <td>[Horror, Thriller, Crime]</td>\n      <td>http://www.kill-list.com/</td>\n      <td>NaN</td>\n      <td>[hotel, wife husband relationship, hitman, inf...</td>\n      <td>en</td>\n      <td>Kill List</td>\n      <td>Nearly a year after a botched job, a hitman ta...</td>\n      <td>12.203041</td>\n      <td>...</td>\n      <td>95.0</td>\n      <td>[{\"iso_639_1\": \"sv\", \"name\": \"svenska\"}, {\"iso...</td>\n      <td>Released</td>\n      <td>NaN</td>\n      <td>Kill List</td>\n      <td>6.0</td>\n      <td>210</td>\n      <td>74725</td>\n      <td>[Neil Maskell, MyAnna Buring, Harry Simpson, M...</td>\n      <td>[Ben Wheatley]</td>\n    </tr>\n    <tr>\n      <th>1928</th>\n      <td>10655</td>\n      <td>0</td>\n      <td>[War, Drama, History]</td>\n      <td>NaN</td>\n      <td>NaN</td>\n      <td>[civil war, independence, troops, army, battle...</td>\n      <td>en</td>\n      <td>Gettysburg</td>\n      <td>Summer 1863. The Confederacy pushes north into...</td>\n      <td>5.529035</td>\n      <td>...</td>\n      <td>254.0</td>\n      <td>[{\"iso_639_1\": \"en\", \"name\": \"English\"}]</td>\n      <td>Released</td>\n      <td>NaN</td>\n      <td>Gettysburg</td>\n      <td>6.6</td>\n      <td>90</td>\n      <td>10655</td>\n      <td>[Jeff Daniels, Tom Berenger, Martin Sheen, Sam...</td>\n      <td>[Ronald F. Maxwell]</td>\n    </tr>\n    <tr>\n      <th>3961</th>\n      <td>100975</td>\n      <td>3000000</td>\n      <td>[Drama, Comedy]</td>\n      <td>NaN</td>\n      <td>NaN</td>\n      <td>[new york, nurse, sex, infidelity, nudity, rom...</td>\n      <td>en</td>\n      <td>Just Looking</td>\n      <td>It's 1955. Lenny is a 14-year old boy who is t...</td>\n      <td>0.431332</td>\n      <td>...</td>\n      <td>97.0</td>\n      <td>[{\"iso_639_1\": \"en\", \"name\": \"English\"}]</td>\n      <td>Released</td>\n      <td>A voyeuristic coming-of-age comedy.</td>\n      <td>Just Looking</td>\n      <td>5.8</td>\n      <td>5</td>\n      <td>100975</td>\n      <td>[Gretchen Mol, Patti LuPone, Peter Onorati, Ry...</td>\n      <td>[Jason Alexander]</td>\n    </tr>\n  </tbody>\n</table>\n<p>5 rows × 24 columns</p>\n</div>"
     },
     "execution_count": 94,
     "metadata": {},
     "output_type": "execute_result"
    }
   ],
   "source": [
    "movies.sample(5)"
   ]
  },
  {
   "cell_type": "code",
   "execution_count": 95,
   "metadata": {
    "id": "UkZzXviSrVHt",
    "ExecuteTime": {
     "end_time": "2023-07-03T14:34:34.968304900Z",
     "start_time": "2023-07-03T14:34:34.965647400Z"
    }
   },
   "outputs": [],
   "source": [
    "# removing space\n",
    "def _join(x):\n",
    "  l=[]\n",
    "  for i in x:\n",
    "    l.append(i.replace(\" \",\"\"))\n",
    "  return l\n"
   ]
  },
  {
   "cell_type": "markdown",
   "metadata": {
    "id": "EDWeX4z6rrm4"
   },
   "source": []
  },
  {
   "cell_type": "code",
   "execution_count": 96,
   "metadata": {
    "id": "xILa6C2artU_",
    "ExecuteTime": {
     "end_time": "2023-07-03T14:34:35.073698800Z",
     "start_time": "2023-07-03T14:34:34.972743900Z"
    }
   },
   "outputs": [],
   "source": [
    "movies[\"cast\"]=movies[\"cast\"].apply(_join)"
   ]
  },
  {
   "cell_type": "code",
   "execution_count": 97,
   "metadata": {
    "id": "Ou-JtdNbruPc",
    "ExecuteTime": {
     "end_time": "2023-07-03T14:34:35.101651200Z",
     "start_time": "2023-07-03T14:34:35.015302300Z"
    }
   },
   "outputs": [],
   "source": [
    "movies[\"cast\"]=movies[\"cast\"].apply(lambda i:i[0:3])"
   ]
  },
  {
   "cell_type": "code",
   "execution_count": 98,
   "metadata": {
    "colab": {
     "base_uri": "https://localhost:8080/"
    },
    "id": "XYpHK__eruvR",
    "outputId": "35ac64ed-89ec-4e5f-ccd3-52d2d2c82863",
    "ExecuteTime": {
     "end_time": "2023-07-03T14:34:35.102648Z",
     "start_time": "2023-07-03T14:34:35.027054100Z"
    }
   },
   "outputs": [
    {
     "data": {
      "text/plain": "0        [SamWorthington, ZoeSaldana, SigourneyWeaver]\n1           [JohnnyDepp, OrlandoBloom, KeiraKnightley]\n2            [DanielCraig, ChristophWaltz, LéaSeydoux]\n3            [ChristianBale, MichaelCaine, GaryOldman]\n4          [TaylorKitsch, LynnCollins, SamanthaMorton]\n                             ...                      \n4803    [CarlosGallardo, JaimedeHoyos, PeterMarquardt]\n4804         [EdwardBurns, KerryBishé, MarshaDietlein]\n4805           [EricMabius, KristinBooth, CrystalLowe]\n4806            [DanielHenney, ElizaCoupe, BillPaxton]\n4807    [DrewBarrymore, BrianHerzlinger, CoreyFeldman]\nName: cast, Length: 4808, dtype: object"
     },
     "execution_count": 98,
     "metadata": {},
     "output_type": "execute_result"
    }
   ],
   "source": [
    "movies[\"cast\"]\n"
   ]
  },
  {
   "cell_type": "code",
   "execution_count": 99,
   "metadata": {
    "id": "rHaZoFptrvV4",
    "ExecuteTime": {
     "end_time": "2023-07-03T14:34:35.152086800Z",
     "start_time": "2023-07-03T14:34:35.039351700Z"
    }
   },
   "outputs": [],
   "source": [
    "new_df=pd.DataFrame(movies,columns=['id','homepage','title','cast','crew','overview','genres','keywords'])"
   ]
  },
  {
   "cell_type": "code",
   "execution_count": 100,
   "metadata": {
    "colab": {
     "base_uri": "https://localhost:8080/",
     "height": 773
    },
    "id": "DhlQLF1Grv6T",
    "outputId": "ddf19baf-5d77-41e0-bdde-b36ac9f5b969",
    "ExecuteTime": {
     "end_time": "2023-07-03T14:34:35.153101800Z",
     "start_time": "2023-07-03T14:34:35.058758Z"
    }
   },
   "outputs": [
    {
     "data": {
      "text/plain": "   id                                      homepage  \\\n0 NaN                   http://www.avatarmovie.com/   \n1 NaN  http://disney.go.com/disneypictures/pirates/   \n2 NaN   http://www.sonypictures.com/movies/spectre/   \n3 NaN            http://www.thedarkknightrises.com/   \n4 NaN          http://movies.disney.com/john-carter   \n\n                                      title  \\\n0                                    Avatar   \n1  Pirates of the Caribbean: At World's End   \n2                                   Spectre   \n3                     The Dark Knight Rises   \n4                               John Carter   \n\n                                            cast                 crew  \\\n0  [SamWorthington, ZoeSaldana, SigourneyWeaver]      [James Cameron]   \n1     [JohnnyDepp, OrlandoBloom, KeiraKnightley]     [Gore Verbinski]   \n2      [DanielCraig, ChristophWaltz, LéaSeydoux]         [Sam Mendes]   \n3      [ChristianBale, MichaelCaine, GaryOldman]  [Christopher Nolan]   \n4    [TaylorKitsch, LynnCollins, SamanthaMorton]     [Andrew Stanton]   \n\n                                            overview  \\\n0  In the 22nd century, a paraplegic Marine is di...   \n1  Captain Barbossa, long believed to be dead, ha...   \n2  A cryptic message from Bond’s past sends him o...   \n3  Following the death of District Attorney Harve...   \n4  John Carter is a war-weary, former military ca...   \n\n                                          genres  \\\n0  [Action, Adventure, Fantasy, Science Fiction]   \n1                   [Adventure, Fantasy, Action]   \n2                     [Action, Adventure, Crime]   \n3               [Action, Crime, Drama, Thriller]   \n4           [Action, Adventure, Science Fiction]   \n\n                                            keywords  \n0  [culture clash, future, space war, space colon...  \n1  [ocean, drug abuse, exotic island, east india ...  \n2  [spy, based on novel, secret agent, sequel, mi...  \n3  [dc comics, crime fighter, terrorist, secret i...  \n4  [based on novel, mars, medallion, space travel...  ",
      "text/html": "<div>\n<style scoped>\n    .dataframe tbody tr th:only-of-type {\n        vertical-align: middle;\n    }\n\n    .dataframe tbody tr th {\n        vertical-align: top;\n    }\n\n    .dataframe thead th {\n        text-align: right;\n    }\n</style>\n<table border=\"1\" class=\"dataframe\">\n  <thead>\n    <tr style=\"text-align: right;\">\n      <th></th>\n      <th>id</th>\n      <th>homepage</th>\n      <th>title</th>\n      <th>cast</th>\n      <th>crew</th>\n      <th>overview</th>\n      <th>genres</th>\n      <th>keywords</th>\n    </tr>\n  </thead>\n  <tbody>\n    <tr>\n      <th>0</th>\n      <td>NaN</td>\n      <td>http://www.avatarmovie.com/</td>\n      <td>Avatar</td>\n      <td>[SamWorthington, ZoeSaldana, SigourneyWeaver]</td>\n      <td>[James Cameron]</td>\n      <td>In the 22nd century, a paraplegic Marine is di...</td>\n      <td>[Action, Adventure, Fantasy, Science Fiction]</td>\n      <td>[culture clash, future, space war, space colon...</td>\n    </tr>\n    <tr>\n      <th>1</th>\n      <td>NaN</td>\n      <td>http://disney.go.com/disneypictures/pirates/</td>\n      <td>Pirates of the Caribbean: At World's End</td>\n      <td>[JohnnyDepp, OrlandoBloom, KeiraKnightley]</td>\n      <td>[Gore Verbinski]</td>\n      <td>Captain Barbossa, long believed to be dead, ha...</td>\n      <td>[Adventure, Fantasy, Action]</td>\n      <td>[ocean, drug abuse, exotic island, east india ...</td>\n    </tr>\n    <tr>\n      <th>2</th>\n      <td>NaN</td>\n      <td>http://www.sonypictures.com/movies/spectre/</td>\n      <td>Spectre</td>\n      <td>[DanielCraig, ChristophWaltz, LéaSeydoux]</td>\n      <td>[Sam Mendes]</td>\n      <td>A cryptic message from Bond’s past sends him o...</td>\n      <td>[Action, Adventure, Crime]</td>\n      <td>[spy, based on novel, secret agent, sequel, mi...</td>\n    </tr>\n    <tr>\n      <th>3</th>\n      <td>NaN</td>\n      <td>http://www.thedarkknightrises.com/</td>\n      <td>The Dark Knight Rises</td>\n      <td>[ChristianBale, MichaelCaine, GaryOldman]</td>\n      <td>[Christopher Nolan]</td>\n      <td>Following the death of District Attorney Harve...</td>\n      <td>[Action, Crime, Drama, Thriller]</td>\n      <td>[dc comics, crime fighter, terrorist, secret i...</td>\n    </tr>\n    <tr>\n      <th>4</th>\n      <td>NaN</td>\n      <td>http://movies.disney.com/john-carter</td>\n      <td>John Carter</td>\n      <td>[TaylorKitsch, LynnCollins, SamanthaMorton]</td>\n      <td>[Andrew Stanton]</td>\n      <td>John Carter is a war-weary, former military ca...</td>\n      <td>[Action, Adventure, Science Fiction]</td>\n      <td>[based on novel, mars, medallion, space travel...</td>\n    </tr>\n  </tbody>\n</table>\n</div>"
     },
     "execution_count": 100,
     "metadata": {},
     "output_type": "execute_result"
    }
   ],
   "source": [
    "\n",
    "new_df.head(5)"
   ]
  },
  {
   "cell_type": "code",
   "execution_count": 101,
   "metadata": {
    "id": "46qc4sTrrwTa",
    "ExecuteTime": {
     "end_time": "2023-07-03T14:34:35.153101800Z",
     "start_time": "2023-07-03T14:34:35.075958700Z"
    }
   },
   "outputs": [],
   "source": [
    "new_df['crew']=new_df['crew'].apply(_join)"
   ]
  },
  {
   "cell_type": "code",
   "execution_count": 102,
   "metadata": {
    "colab": {
     "base_uri": "https://localhost:8080/",
     "height": 773
    },
    "id": "1qMnK4XjrxD4",
    "outputId": "e356c58c-aa9f-4c0e-9f62-4ee8a2ffd8a5",
    "ExecuteTime": {
     "end_time": "2023-07-03T14:34:35.154294400Z",
     "start_time": "2023-07-03T14:34:35.084708200Z"
    }
   },
   "outputs": [
    {
     "data": {
      "text/plain": "   id                                      homepage  \\\n0 NaN                   http://www.avatarmovie.com/   \n1 NaN  http://disney.go.com/disneypictures/pirates/   \n2 NaN   http://www.sonypictures.com/movies/spectre/   \n3 NaN            http://www.thedarkknightrises.com/   \n4 NaN          http://movies.disney.com/john-carter   \n\n                                      title  \\\n0                                    Avatar   \n1  Pirates of the Caribbean: At World's End   \n2                                   Spectre   \n3                     The Dark Knight Rises   \n4                               John Carter   \n\n                                            cast                crew  \\\n0  [SamWorthington, ZoeSaldana, SigourneyWeaver]      [JamesCameron]   \n1     [JohnnyDepp, OrlandoBloom, KeiraKnightley]     [GoreVerbinski]   \n2      [DanielCraig, ChristophWaltz, LéaSeydoux]         [SamMendes]   \n3      [ChristianBale, MichaelCaine, GaryOldman]  [ChristopherNolan]   \n4    [TaylorKitsch, LynnCollins, SamanthaMorton]     [AndrewStanton]   \n\n                                            overview  \\\n0  In the 22nd century, a paraplegic Marine is di...   \n1  Captain Barbossa, long believed to be dead, ha...   \n2  A cryptic message from Bond’s past sends him o...   \n3  Following the death of District Attorney Harve...   \n4  John Carter is a war-weary, former military ca...   \n\n                                          genres  \\\n0  [Action, Adventure, Fantasy, Science Fiction]   \n1                   [Adventure, Fantasy, Action]   \n2                     [Action, Adventure, Crime]   \n3               [Action, Crime, Drama, Thriller]   \n4           [Action, Adventure, Science Fiction]   \n\n                                            keywords  \n0  [culture clash, future, space war, space colon...  \n1  [ocean, drug abuse, exotic island, east india ...  \n2  [spy, based on novel, secret agent, sequel, mi...  \n3  [dc comics, crime fighter, terrorist, secret i...  \n4  [based on novel, mars, medallion, space travel...  ",
      "text/html": "<div>\n<style scoped>\n    .dataframe tbody tr th:only-of-type {\n        vertical-align: middle;\n    }\n\n    .dataframe tbody tr th {\n        vertical-align: top;\n    }\n\n    .dataframe thead th {\n        text-align: right;\n    }\n</style>\n<table border=\"1\" class=\"dataframe\">\n  <thead>\n    <tr style=\"text-align: right;\">\n      <th></th>\n      <th>id</th>\n      <th>homepage</th>\n      <th>title</th>\n      <th>cast</th>\n      <th>crew</th>\n      <th>overview</th>\n      <th>genres</th>\n      <th>keywords</th>\n    </tr>\n  </thead>\n  <tbody>\n    <tr>\n      <th>0</th>\n      <td>NaN</td>\n      <td>http://www.avatarmovie.com/</td>\n      <td>Avatar</td>\n      <td>[SamWorthington, ZoeSaldana, SigourneyWeaver]</td>\n      <td>[JamesCameron]</td>\n      <td>In the 22nd century, a paraplegic Marine is di...</td>\n      <td>[Action, Adventure, Fantasy, Science Fiction]</td>\n      <td>[culture clash, future, space war, space colon...</td>\n    </tr>\n    <tr>\n      <th>1</th>\n      <td>NaN</td>\n      <td>http://disney.go.com/disneypictures/pirates/</td>\n      <td>Pirates of the Caribbean: At World's End</td>\n      <td>[JohnnyDepp, OrlandoBloom, KeiraKnightley]</td>\n      <td>[GoreVerbinski]</td>\n      <td>Captain Barbossa, long believed to be dead, ha...</td>\n      <td>[Adventure, Fantasy, Action]</td>\n      <td>[ocean, drug abuse, exotic island, east india ...</td>\n    </tr>\n    <tr>\n      <th>2</th>\n      <td>NaN</td>\n      <td>http://www.sonypictures.com/movies/spectre/</td>\n      <td>Spectre</td>\n      <td>[DanielCraig, ChristophWaltz, LéaSeydoux]</td>\n      <td>[SamMendes]</td>\n      <td>A cryptic message from Bond’s past sends him o...</td>\n      <td>[Action, Adventure, Crime]</td>\n      <td>[spy, based on novel, secret agent, sequel, mi...</td>\n    </tr>\n    <tr>\n      <th>3</th>\n      <td>NaN</td>\n      <td>http://www.thedarkknightrises.com/</td>\n      <td>The Dark Knight Rises</td>\n      <td>[ChristianBale, MichaelCaine, GaryOldman]</td>\n      <td>[ChristopherNolan]</td>\n      <td>Following the death of District Attorney Harve...</td>\n      <td>[Action, Crime, Drama, Thriller]</td>\n      <td>[dc comics, crime fighter, terrorist, secret i...</td>\n    </tr>\n    <tr>\n      <th>4</th>\n      <td>NaN</td>\n      <td>http://movies.disney.com/john-carter</td>\n      <td>John Carter</td>\n      <td>[TaylorKitsch, LynnCollins, SamanthaMorton]</td>\n      <td>[AndrewStanton]</td>\n      <td>John Carter is a war-weary, former military ca...</td>\n      <td>[Action, Adventure, Science Fiction]</td>\n      <td>[based on novel, mars, medallion, space travel...</td>\n    </tr>\n  </tbody>\n</table>\n</div>"
     },
     "execution_count": 102,
     "metadata": {},
     "output_type": "execute_result"
    }
   ],
   "source": [
    "\n",
    "new_df.head()"
   ]
  },
  {
   "cell_type": "code",
   "execution_count": 103,
   "metadata": {
    "colab": {
     "base_uri": "https://localhost:8080/"
    },
    "id": "8gJtOcmdrxrP",
    "outputId": "4b48cc27-679b-452c-ab1e-adc6cefa2125",
    "ExecuteTime": {
     "end_time": "2023-07-03T14:34:35.223435900Z",
     "start_time": "2023-07-03T14:34:35.100654600Z"
    }
   },
   "outputs": [
    {
     "data": {
      "text/plain": "id          4808\nhomepage    3095\ntitle          0\ncast           0\ncrew           0\noverview       3\ngenres         0\nkeywords       0\ndtype: int64"
     },
     "execution_count": 103,
     "metadata": {},
     "output_type": "execute_result"
    }
   ],
   "source": [
    "new_df.isna().sum()"
   ]
  },
  {
   "cell_type": "markdown",
   "metadata": {
    "id": "ThN9x3Xosb6B"
   },
   "source": []
  },
  {
   "cell_type": "code",
   "execution_count": 104,
   "metadata": {
    "id": "QsbHfxOxscix",
    "ExecuteTime": {
     "end_time": "2023-07-03T14:34:35.223435900Z",
     "start_time": "2023-07-03T14:34:35.118507700Z"
    }
   },
   "outputs": [],
   "source": [
    "\n",
    "new_df[\"homepage\"]=new_df[\"homepage\"].fillna(0)"
   ]
  },
  {
   "cell_type": "code",
   "execution_count": 105,
   "metadata": {
    "colab": {
     "base_uri": "https://localhost:8080/"
    },
    "id": "ciEQ_e5xsdBv",
    "outputId": "9928cd98-eacf-4de5-8e2b-ddd488853627",
    "ExecuteTime": {
     "end_time": "2023-07-03T14:34:35.357806700Z",
     "start_time": "2023-07-03T14:34:35.123943100Z"
    }
   },
   "outputs": [
    {
     "name": "stderr",
     "output_type": "stream",
     "text": [
      "C:\\Users\\DIGAMBER MISHRA\\AppData\\Local\\Temp\\ipykernel_33676\\4260153585.py:10: SettingWithCopyWarning: \n",
      "A value is trying to be set on a copy of a slice from a DataFrame\n",
      "\n",
      "See the caveats in the documentation: https://pandas.pydata.org/pandas-docs/stable/user_guide/indexing.html#returning-a-view-versus-a-copy\n",
      "  new_df[\"urls\"][i]=new_df[\"homepage\"][i]\n"
     ]
    }
   ],
   "source": [
    "url=list(enumerate(new_df[\"homepage\"]))\n",
    "new_df[\"urls\"]=0\n",
    "for i in range(len(url)):\n",
    "  if new_df[\"homepage\"][i]==0:\n",
    "\n",
    "    x=(\"{}/{}\".format(\"https://www.\",str(\"\".join(list(new_df[\"title\"][url[i][0]].split())))))\n",
    "\n",
    "    new_df[\"urls\"][i]=x\n",
    "  else:\n",
    "    new_df[\"urls\"][i]=new_df[\"homepage\"][i]"
   ]
  },
  {
   "cell_type": "code",
   "execution_count": 106,
   "metadata": {
    "colab": {
     "base_uri": "https://localhost:8080/"
    },
    "id": "30UgorpUsdyC",
    "outputId": "336fc79e-d077-4aae-99d2-7193bde9da88",
    "ExecuteTime": {
     "end_time": "2023-07-03T14:34:35.358455900Z",
     "start_time": "2023-07-03T14:34:35.211952500Z"
    }
   },
   "outputs": [
    {
     "data": {
      "text/plain": "0                             http://www.avatarmovie.com/\n1            http://disney.go.com/disneypictures/pirates/\n2             http://www.sonypictures.com/movies/spectre/\n3                      http://www.thedarkknightrises.com/\n4                    http://movies.disney.com/john-carter\n                              ...                        \n4803                              https://www./ElMariachi\n4804                               https://www./Newlyweds\n4805    http://www.hallmarkchannel.com/signedsealeddel...\n4806                          http://shanghaicalling.com/\n4807                          https://www./MyDatewithDrew\nName: urls, Length: 4808, dtype: object"
     },
     "execution_count": 106,
     "metadata": {},
     "output_type": "execute_result"
    }
   ],
   "source": [
    "\n",
    "\n",
    "# def link(url,i):\n",
    "#   s=url\n",
    "#   x=\"{} + {}\".format(\"https://www.\",str(new_df.iloc[[url[i][0]]].title))\n",
    "#   iF s is \"link\"\n",
    "#     return x\n",
    "#   else:\n",
    "#     return s\n",
    "# # new_df[new_df[\"homepage\"].fillna(\"{} + {}\".format(\"https://www.\",new_df[\"title\"]]))\n",
    "new_df[\"urls\"]"
   ]
  },
  {
   "cell_type": "code",
   "execution_count": 107,
   "metadata": {
    "colab": {
     "base_uri": "https://localhost:8080/",
     "height": 600
    },
    "id": "oWCVkh7xseSj",
    "outputId": "4b3f8201-1731-4272-80a2-7021b906f831",
    "ExecuteTime": {
     "end_time": "2023-07-03T14:34:35.384720600Z",
     "start_time": "2023-07-03T14:34:35.220443500Z"
    }
   },
   "outputs": [
    {
     "data": {
      "text/plain": "      id                                  homepage               title  \\\n2141 NaN                                         0               Doubt   \n3370 NaN   http://beyondthelightsmovie.tumblr.com/   Beyond the Lights   \n3793 NaN                                         0  Psycho Beach Party   \n622  NaN  http://wwws.warnerbros.co.uk/bodyoflies/        Body of Lies   \n4653 NaN                 http://www.ontheouts.com/         On the Outs   \n\n                                               cast  \\\n2141  [MerylStreep, PhilipSeymourHoffman, AmyAdams]   \n3370     [GuguMbatha-Raw, NateParker, MinnieDriver]   \n3793     [LaurenAmbrose, NicholasBrendon, AmyAdams]   \n622    [LeonardoDiCaprio, RussellCrowe, MarkStrong]   \n4653         [JudyMarte, PaolaMendoza, FlacoNavaja]   \n\n                                  crew  \\\n2141              [JohnPatrickShanley]   \n3370            [GinaPrince-Bythewood]   \n3793                   [RobertLeeKing]   \n622                      [RidleyScott]   \n4653  [LoriSilverbush, MichaelSkolnik]   \n\n                                               overview  \\\n2141  In 1964, a Catholic school nun questions a pri...   \n3370  Noni Jean is a hot new rising star. But not al...   \n3793  Spoof of 1960's Beach Party/Gidget surfing mov...   \n622   The CIA’s hunt is on for the mastermind of a w...   \n4653  Follows the choices made by three young women ...   \n\n                         genres  \\\n2141           [Drama, Mystery]   \n3370           [Romance, Drama]   \n3793                   [Comedy]   \n622   [Action, Drama, Thriller]   \n4653                    [Drama]   \n\n                                               keywords  \\\n2141  [sexual abuse, boy, wine, gift, janitor, singi...   \n3370        [talent, success, musician, woman director]   \n3793  [gay, dancing, detective, confession, beach, s...   \n622   [terror, falsely accused, based on novel, dyin...   \n4653  [prison, drug dealer, single mother, teenage p...   \n\n                                          urls  \n2141                        https://www./Doubt  \n3370   http://beyondthelightsmovie.tumblr.com/  \n3793             https://www./PsychoBeachParty  \n622   http://wwws.warnerbros.co.uk/bodyoflies/  \n4653                 http://www.ontheouts.com/  ",
      "text/html": "<div>\n<style scoped>\n    .dataframe tbody tr th:only-of-type {\n        vertical-align: middle;\n    }\n\n    .dataframe tbody tr th {\n        vertical-align: top;\n    }\n\n    .dataframe thead th {\n        text-align: right;\n    }\n</style>\n<table border=\"1\" class=\"dataframe\">\n  <thead>\n    <tr style=\"text-align: right;\">\n      <th></th>\n      <th>id</th>\n      <th>homepage</th>\n      <th>title</th>\n      <th>cast</th>\n      <th>crew</th>\n      <th>overview</th>\n      <th>genres</th>\n      <th>keywords</th>\n      <th>urls</th>\n    </tr>\n  </thead>\n  <tbody>\n    <tr>\n      <th>2141</th>\n      <td>NaN</td>\n      <td>0</td>\n      <td>Doubt</td>\n      <td>[MerylStreep, PhilipSeymourHoffman, AmyAdams]</td>\n      <td>[JohnPatrickShanley]</td>\n      <td>In 1964, a Catholic school nun questions a pri...</td>\n      <td>[Drama, Mystery]</td>\n      <td>[sexual abuse, boy, wine, gift, janitor, singi...</td>\n      <td>https://www./Doubt</td>\n    </tr>\n    <tr>\n      <th>3370</th>\n      <td>NaN</td>\n      <td>http://beyondthelightsmovie.tumblr.com/</td>\n      <td>Beyond the Lights</td>\n      <td>[GuguMbatha-Raw, NateParker, MinnieDriver]</td>\n      <td>[GinaPrince-Bythewood]</td>\n      <td>Noni Jean is a hot new rising star. But not al...</td>\n      <td>[Romance, Drama]</td>\n      <td>[talent, success, musician, woman director]</td>\n      <td>http://beyondthelightsmovie.tumblr.com/</td>\n    </tr>\n    <tr>\n      <th>3793</th>\n      <td>NaN</td>\n      <td>0</td>\n      <td>Psycho Beach Party</td>\n      <td>[LaurenAmbrose, NicholasBrendon, AmyAdams]</td>\n      <td>[RobertLeeKing]</td>\n      <td>Spoof of 1960's Beach Party/Gidget surfing mov...</td>\n      <td>[Comedy]</td>\n      <td>[gay, dancing, detective, confession, beach, s...</td>\n      <td>https://www./PsychoBeachParty</td>\n    </tr>\n    <tr>\n      <th>622</th>\n      <td>NaN</td>\n      <td>http://wwws.warnerbros.co.uk/bodyoflies/</td>\n      <td>Body of Lies</td>\n      <td>[LeonardoDiCaprio, RussellCrowe, MarkStrong]</td>\n      <td>[RidleyScott]</td>\n      <td>The CIA’s hunt is on for the mastermind of a w...</td>\n      <td>[Action, Drama, Thriller]</td>\n      <td>[terror, falsely accused, based on novel, dyin...</td>\n      <td>http://wwws.warnerbros.co.uk/bodyoflies/</td>\n    </tr>\n    <tr>\n      <th>4653</th>\n      <td>NaN</td>\n      <td>http://www.ontheouts.com/</td>\n      <td>On the Outs</td>\n      <td>[JudyMarte, PaolaMendoza, FlacoNavaja]</td>\n      <td>[LoriSilverbush, MichaelSkolnik]</td>\n      <td>Follows the choices made by three young women ...</td>\n      <td>[Drama]</td>\n      <td>[prison, drug dealer, single mother, teenage p...</td>\n      <td>http://www.ontheouts.com/</td>\n    </tr>\n  </tbody>\n</table>\n</div>"
     },
     "execution_count": 107,
     "metadata": {},
     "output_type": "execute_result"
    }
   ],
   "source": [
    "# new_df.iloc[[0]].title\n",
    "new_df.sample(5)"
   ]
  },
  {
   "cell_type": "code",
   "execution_count": 108,
   "metadata": {
    "id": "illVaL_bsejM",
    "ExecuteTime": {
     "end_time": "2023-07-03T14:34:35.473826Z",
     "start_time": "2023-07-03T14:34:35.243995800Z"
    }
   },
   "outputs": [],
   "source": [
    "# to convert string into list of strings\n",
    "def spliting(text):\n",
    "  text=str(text).split()\n",
    "  return text"
   ]
  },
  {
   "cell_type": "code",
   "execution_count": 109,
   "metadata": {
    "id": "pczAnTfesezF",
    "ExecuteTime": {
     "end_time": "2023-07-03T14:34:35.554335Z",
     "start_time": "2023-07-03T14:34:35.254075300Z"
    }
   },
   "outputs": [],
   "source": [
    "\n",
    "new_df['overview']=new_df['overview'].apply(spliting)"
   ]
  },
  {
   "cell_type": "code",
   "execution_count": 110,
   "metadata": {
    "id": "6UzDfKy3sfA3",
    "ExecuteTime": {
     "end_time": "2023-07-03T14:34:35.569945Z",
     "start_time": "2023-07-03T14:34:35.286948600Z"
    }
   },
   "outputs": [],
   "source": [
    "\n",
    "new_df['all_tags']=new_df['overview'] + new_df['genres'] + new_df['keywords'] + new_df['cast'] + new_df['crew']"
   ]
  },
  {
   "cell_type": "code",
   "execution_count": 111,
   "metadata": {
    "id": "oddPPK-SsfPq",
    "ExecuteTime": {
     "end_time": "2023-07-03T14:34:35.570385400Z",
     "start_time": "2023-07-03T14:34:35.350096Z"
    }
   },
   "outputs": [],
   "source": [
    "\n",
    "new_df.drop(columns=['overview','genres' ,'keywords','cast' , 'crew','homepage'],inplace=True)\n"
   ]
  },
  {
   "cell_type": "code",
   "execution_count": 112,
   "metadata": {
    "colab": {
     "base_uri": "https://localhost:8080/",
     "height": 406
    },
    "id": "8LIUMoT6tLP3",
    "outputId": "ee3c45c8-b896-4453-cc04-3833f30dbb7c",
    "ExecuteTime": {
     "end_time": "2023-07-03T14:34:35.570385400Z",
     "start_time": "2023-07-03T14:34:35.378085500Z"
    }
   },
   "outputs": [
    {
     "data": {
      "text/plain": "   id                                     title  \\\n0 NaN                                    Avatar   \n1 NaN  Pirates of the Caribbean: At World's End   \n2 NaN                                   Spectre   \n3 NaN                     The Dark Knight Rises   \n4 NaN                               John Carter   \n\n                                           urls  \\\n0                   http://www.avatarmovie.com/   \n1  http://disney.go.com/disneypictures/pirates/   \n2   http://www.sonypictures.com/movies/spectre/   \n3            http://www.thedarkknightrises.com/   \n4          http://movies.disney.com/john-carter   \n\n                                            all_tags  \n0  [In, the, 22nd, century,, a, paraplegic, Marin...  \n1  [Captain, Barbossa,, long, believed, to, be, d...  \n2  [A, cryptic, message, from, Bond’s, past, send...  \n3  [Following, the, death, of, District, Attorney...  \n4  [John, Carter, is, a, war-weary,, former, mili...  ",
      "text/html": "<div>\n<style scoped>\n    .dataframe tbody tr th:only-of-type {\n        vertical-align: middle;\n    }\n\n    .dataframe tbody tr th {\n        vertical-align: top;\n    }\n\n    .dataframe thead th {\n        text-align: right;\n    }\n</style>\n<table border=\"1\" class=\"dataframe\">\n  <thead>\n    <tr style=\"text-align: right;\">\n      <th></th>\n      <th>id</th>\n      <th>title</th>\n      <th>urls</th>\n      <th>all_tags</th>\n    </tr>\n  </thead>\n  <tbody>\n    <tr>\n      <th>0</th>\n      <td>NaN</td>\n      <td>Avatar</td>\n      <td>http://www.avatarmovie.com/</td>\n      <td>[In, the, 22nd, century,, a, paraplegic, Marin...</td>\n    </tr>\n    <tr>\n      <th>1</th>\n      <td>NaN</td>\n      <td>Pirates of the Caribbean: At World's End</td>\n      <td>http://disney.go.com/disneypictures/pirates/</td>\n      <td>[Captain, Barbossa,, long, believed, to, be, d...</td>\n    </tr>\n    <tr>\n      <th>2</th>\n      <td>NaN</td>\n      <td>Spectre</td>\n      <td>http://www.sonypictures.com/movies/spectre/</td>\n      <td>[A, cryptic, message, from, Bond’s, past, send...</td>\n    </tr>\n    <tr>\n      <th>3</th>\n      <td>NaN</td>\n      <td>The Dark Knight Rises</td>\n      <td>http://www.thedarkknightrises.com/</td>\n      <td>[Following, the, death, of, District, Attorney...</td>\n    </tr>\n    <tr>\n      <th>4</th>\n      <td>NaN</td>\n      <td>John Carter</td>\n      <td>http://movies.disney.com/john-carter</td>\n      <td>[John, Carter, is, a, war-weary,, former, mili...</td>\n    </tr>\n  </tbody>\n</table>\n</div>"
     },
     "execution_count": 112,
     "metadata": {},
     "output_type": "execute_result"
    }
   ],
   "source": [
    "\n",
    "new_df.head()"
   ]
  },
  {
   "cell_type": "code",
   "execution_count": 113,
   "metadata": {
    "id": "d32tl7e3tMPo",
    "ExecuteTime": {
     "end_time": "2023-07-03T14:34:35.570385400Z",
     "start_time": "2023-07-03T14:34:35.382098400Z"
    }
   },
   "outputs": [],
   "source": [
    "\n",
    "#converting all tags in lower case and deletion similarities"
   ]
  },
  {
   "cell_type": "code",
   "execution_count": 114,
   "metadata": {
    "id": "ysT26y5RtMfk",
    "ExecuteTime": {
     "end_time": "2023-07-03T14:34:35.570385400Z",
     "start_time": "2023-07-03T14:34:35.388708600Z"
    }
   },
   "outputs": [],
   "source": [
    "def convert_lower(text):\n",
    "  l=[]\n",
    "  for item in text:\n",
    "    l.append(item.lower())\n",
    "  return l"
   ]
  },
  {
   "cell_type": "code",
   "execution_count": 115,
   "metadata": {
    "id": "VL0lwAs0tMsd",
    "ExecuteTime": {
     "end_time": "2023-07-03T14:34:35.601467800Z",
     "start_time": "2023-07-03T14:34:35.394223300Z"
    }
   },
   "outputs": [],
   "source": [
    "new_df['all_tags']=new_df['all_tags'].apply(convert_lower)"
   ]
  },
  {
   "cell_type": "code",
   "execution_count": 116,
   "metadata": {
    "colab": {
     "base_uri": "https://localhost:8080/",
     "height": 406
    },
    "id": "RIxRQ57ytM5u",
    "outputId": "a480c530-21ed-4be3-9e99-8e2d3e9ceee3",
    "ExecuteTime": {
     "end_time": "2023-07-03T14:34:35.602098900Z",
     "start_time": "2023-07-03T14:34:35.454624100Z"
    }
   },
   "outputs": [
    {
     "data": {
      "text/plain": "   id                                     title  \\\n0 NaN                                    Avatar   \n1 NaN  Pirates of the Caribbean: At World's End   \n2 NaN                                   Spectre   \n3 NaN                     The Dark Knight Rises   \n4 NaN                               John Carter   \n\n                                           urls  \\\n0                   http://www.avatarmovie.com/   \n1  http://disney.go.com/disneypictures/pirates/   \n2   http://www.sonypictures.com/movies/spectre/   \n3            http://www.thedarkknightrises.com/   \n4          http://movies.disney.com/john-carter   \n\n                                            all_tags  \n0  [in, the, 22nd, century,, a, paraplegic, marin...  \n1  [captain, barbossa,, long, believed, to, be, d...  \n2  [a, cryptic, message, from, bond’s, past, send...  \n3  [following, the, death, of, district, attorney...  \n4  [john, carter, is, a, war-weary,, former, mili...  ",
      "text/html": "<div>\n<style scoped>\n    .dataframe tbody tr th:only-of-type {\n        vertical-align: middle;\n    }\n\n    .dataframe tbody tr th {\n        vertical-align: top;\n    }\n\n    .dataframe thead th {\n        text-align: right;\n    }\n</style>\n<table border=\"1\" class=\"dataframe\">\n  <thead>\n    <tr style=\"text-align: right;\">\n      <th></th>\n      <th>id</th>\n      <th>title</th>\n      <th>urls</th>\n      <th>all_tags</th>\n    </tr>\n  </thead>\n  <tbody>\n    <tr>\n      <th>0</th>\n      <td>NaN</td>\n      <td>Avatar</td>\n      <td>http://www.avatarmovie.com/</td>\n      <td>[in, the, 22nd, century,, a, paraplegic, marin...</td>\n    </tr>\n    <tr>\n      <th>1</th>\n      <td>NaN</td>\n      <td>Pirates of the Caribbean: At World's End</td>\n      <td>http://disney.go.com/disneypictures/pirates/</td>\n      <td>[captain, barbossa,, long, believed, to, be, d...</td>\n    </tr>\n    <tr>\n      <th>2</th>\n      <td>NaN</td>\n      <td>Spectre</td>\n      <td>http://www.sonypictures.com/movies/spectre/</td>\n      <td>[a, cryptic, message, from, bond’s, past, send...</td>\n    </tr>\n    <tr>\n      <th>3</th>\n      <td>NaN</td>\n      <td>The Dark Knight Rises</td>\n      <td>http://www.thedarkknightrises.com/</td>\n      <td>[following, the, death, of, district, attorney...</td>\n    </tr>\n    <tr>\n      <th>4</th>\n      <td>NaN</td>\n      <td>John Carter</td>\n      <td>http://movies.disney.com/john-carter</td>\n      <td>[john, carter, is, a, war-weary,, former, mili...</td>\n    </tr>\n  </tbody>\n</table>\n</div>"
     },
     "execution_count": 116,
     "metadata": {},
     "output_type": "execute_result"
    }
   ],
   "source": [
    "\n",
    "new_df.head()"
   ]
  },
  {
   "cell_type": "code",
   "execution_count": 116,
   "metadata": {
    "id": "qJRDASi9tpYu",
    "ExecuteTime": {
     "end_time": "2023-07-03T14:34:35.602098900Z",
     "start_time": "2023-07-03T14:34:35.467492500Z"
    }
   },
   "outputs": [],
   "source": []
  },
  {
   "cell_type": "code",
   "execution_count": 116,
   "metadata": {
    "colab": {
     "base_uri": "https://localhost:8080/"
    },
    "id": "cIX1kBSWsffS",
    "outputId": "10b555bc-0a29-471d-e8dd-d43c2ea56f98",
    "ExecuteTime": {
     "end_time": "2023-07-03T14:34:35.602765800Z",
     "start_time": "2023-07-03T14:34:35.470830700Z"
    }
   },
   "outputs": [],
   "source": []
  },
  {
   "cell_type": "code",
   "execution_count": 117,
   "metadata": {
    "id": "rthaDGbGsfvm",
    "ExecuteTime": {
     "end_time": "2023-07-03T14:34:35.602765800Z",
     "start_time": "2023-07-03T14:34:35.472830Z"
    }
   },
   "outputs": [],
   "source": [
    "import nltk\n",
    "from nltk.stem.porter import PorterStemmer\n",
    "ps=PorterStemmer()\n",
    "def steming(text):\n",
    "  l=[]\n",
    "  for i in text:\n",
    "\n",
    "    l.append(ps.stem(i))\n",
    "  return l"
   ]
  },
  {
   "cell_type": "code",
   "execution_count": 117,
   "metadata": {
    "id": "h3WAiidWtqTc",
    "ExecuteTime": {
     "end_time": "2023-07-03T14:34:35.602765800Z",
     "start_time": "2023-07-03T14:34:35.485254Z"
    }
   },
   "outputs": [],
   "source": []
  },
  {
   "cell_type": "code",
   "execution_count": 118,
   "metadata": {
    "id": "2xvs3KCKtqh0",
    "ExecuteTime": {
     "end_time": "2023-07-03T14:34:39.639506700Z",
     "start_time": "2023-07-03T14:34:35.488902400Z"
    }
   },
   "outputs": [],
   "source": [
    "new_df['all_tags']=new_df['all_tags'].apply(steming)"
   ]
  },
  {
   "cell_type": "code",
   "execution_count": 119,
   "metadata": {
    "colab": {
     "base_uri": "https://localhost:8080/",
     "height": 423
    },
    "id": "_1-RGkzRtqsg",
    "outputId": "59a3827a-16ee-4dc7-cad6-0c6805fb9e64",
    "ExecuteTime": {
     "end_time": "2023-07-03T14:34:39.659974900Z",
     "start_time": "2023-07-03T14:34:39.648115300Z"
    }
   },
   "outputs": [
    {
     "data": {
      "text/plain": "      id                   title                               urls  \\\n3901 NaN               The Purge              https://www./ThePurge   \n2138 NaN           Vampires Suck  http://www.dancingwerewolves.com/   \n2844 NaN  The Fault in Our Stars    https://www./TheFaultinOurStars   \n3659 NaN             Desert Blue            https://www./DesertBlue   \n1304 NaN              Sgt. Bilko             https://www./Sgt.Bilko   \n\n                                               all_tags  \n3901  [given, the, country', overcrowd, prisons,, th...  \n2138  [becca,, an, anxious,, non-vampir, teen, is, t...  \n2844  [despit, the, tumor-shrink, medic, miracl, tha...  \n3659  [an, academ, obsess, with, \"roadsid, attractio...  \n1304  [the, armi, is, known, for, churn, out, lean, ...  ",
      "text/html": "<div>\n<style scoped>\n    .dataframe tbody tr th:only-of-type {\n        vertical-align: middle;\n    }\n\n    .dataframe tbody tr th {\n        vertical-align: top;\n    }\n\n    .dataframe thead th {\n        text-align: right;\n    }\n</style>\n<table border=\"1\" class=\"dataframe\">\n  <thead>\n    <tr style=\"text-align: right;\">\n      <th></th>\n      <th>id</th>\n      <th>title</th>\n      <th>urls</th>\n      <th>all_tags</th>\n    </tr>\n  </thead>\n  <tbody>\n    <tr>\n      <th>3901</th>\n      <td>NaN</td>\n      <td>The Purge</td>\n      <td>https://www./ThePurge</td>\n      <td>[given, the, country', overcrowd, prisons,, th...</td>\n    </tr>\n    <tr>\n      <th>2138</th>\n      <td>NaN</td>\n      <td>Vampires Suck</td>\n      <td>http://www.dancingwerewolves.com/</td>\n      <td>[becca,, an, anxious,, non-vampir, teen, is, t...</td>\n    </tr>\n    <tr>\n      <th>2844</th>\n      <td>NaN</td>\n      <td>The Fault in Our Stars</td>\n      <td>https://www./TheFaultinOurStars</td>\n      <td>[despit, the, tumor-shrink, medic, miracl, tha...</td>\n    </tr>\n    <tr>\n      <th>3659</th>\n      <td>NaN</td>\n      <td>Desert Blue</td>\n      <td>https://www./DesertBlue</td>\n      <td>[an, academ, obsess, with, \"roadsid, attractio...</td>\n    </tr>\n    <tr>\n      <th>1304</th>\n      <td>NaN</td>\n      <td>Sgt. Bilko</td>\n      <td>https://www./Sgt.Bilko</td>\n      <td>[the, armi, is, known, for, churn, out, lean, ...</td>\n    </tr>\n  </tbody>\n</table>\n</div>"
     },
     "execution_count": 119,
     "metadata": {},
     "output_type": "execute_result"
    }
   ],
   "source": [
    "new_df.sample(5)"
   ]
  },
  {
   "cell_type": "code",
   "execution_count": 120,
   "metadata": {
    "id": "zUaKZvEstrC3",
    "ExecuteTime": {
     "end_time": "2023-07-03T14:34:39.805077100Z",
     "start_time": "2023-07-03T14:34:39.659974900Z"
    }
   },
   "outputs": [],
   "source": [
    "new_df[\"all_tags\"]=new_df[\"all_tags\"].apply(_join)"
   ]
  },
  {
   "cell_type": "code",
   "execution_count": 121,
   "metadata": {
    "id": "QcAG9RC7uA36",
    "ExecuteTime": {
     "end_time": "2023-07-03T14:34:39.856072600Z",
     "start_time": "2023-07-03T14:34:39.751310400Z"
    }
   },
   "outputs": [],
   "source": [
    "new_df['all_tags'] = new_df['all_tags'].apply(lambda x: \" \".join(x))"
   ]
  },
  {
   "cell_type": "code",
   "execution_count": 122,
   "metadata": {
    "id": "3Jgc8w5HuCQW",
    "ExecuteTime": {
     "end_time": "2023-07-03T14:34:39.881003400Z",
     "start_time": "2023-07-03T14:34:39.776007200Z"
    }
   },
   "outputs": [],
   "source": [
    "\n",
    "from sklearn.feature_extraction.text import CountVectorizer\n",
    "cv = CountVectorizer(stop_words='english')"
   ]
  },
  {
   "cell_type": "code",
   "execution_count": 123,
   "metadata": {
    "colab": {
     "base_uri": "https://localhost:8080/"
    },
    "id": "uWOAIn8HuC0E",
    "outputId": "07521822-c47a-403e-d781-0a4ff6f49932",
    "ExecuteTime": {
     "end_time": "2023-07-03T14:34:40.466983600Z",
     "start_time": "2023-07-03T14:34:39.805734500Z"
    }
   },
   "outputs": [
    {
     "data": {
      "text/plain": "array([[0, 0, 0, ..., 0, 0, 0],\n       [0, 0, 0, ..., 0, 0, 0],\n       [0, 0, 0, ..., 0, 0, 0],\n       ...,\n       [0, 0, 0, ..., 0, 0, 0],\n       [0, 0, 0, ..., 0, 0, 0],\n       [0, 0, 0, ..., 0, 0, 0]], dtype=int64)"
     },
     "execution_count": 123,
     "metadata": {},
     "output_type": "execute_result"
    }
   ],
   "source": [
    "data = cv.fit_transform(new_df['all_tags']).toarray()\n",
    "data"
   ]
  },
  {
   "cell_type": "code",
   "execution_count": 124,
   "metadata": {
    "colab": {
     "base_uri": "https://localhost:8080/"
    },
    "id": "ct9a8OGNuDAf",
    "outputId": "0d9ed006-ed9d-4545-bf7c-fe0f523e407d",
    "ExecuteTime": {
     "end_time": "2023-07-03T14:35:08.417813200Z",
     "start_time": "2023-07-03T14:34:40.464989700Z"
    }
   },
   "outputs": [
    {
     "name": "stderr",
     "output_type": "stream",
     "text": [
      "C:\\src\\Movie-Recommendation-System-main\\venv\\Lib\\site-packages\\sklearn\\utils\\extmath.py:193: RuntimeWarning: invalid value encountered in matmul\n",
      "  ret = a @ b\n"
     ]
    },
    {
     "data": {
      "text/plain": "array([[1.        , 0.06776309, 0.06862635, ..., 0.03571429, 0.        ,\n        0.        ],\n       [0.06776309, 1.        , 0.05063697, ..., 0.01976424, 0.        ,\n        0.0209427 ],\n       [0.06862635, 0.05063697, 1.        , ..., 0.02001602, 0.        ,\n        0.        ],\n       ...,\n       [0.03571429, 0.01976424, 0.02001602, ..., 1.        , 0.03311331,\n        0.03311331],\n       [0.        , 0.        , 0.        , ..., 0.03311331, 1.        ,\n        0.07017544],\n       [0.        , 0.0209427 , 0.        , ..., 0.03311331, 0.07017544,\n        1.        ]])"
     },
     "execution_count": 124,
     "metadata": {},
     "output_type": "execute_result"
    }
   ],
   "source": [
    "from sklearn.metrics.pairwise import cosine_similarity\n",
    "similarity = cosine_similarity(data)\n",
    "similarity"
   ]
  },
  {
   "cell_type": "code",
   "execution_count": 135,
   "metadata": {
    "id": "J-cJkcEyuDOy",
    "ExecuteTime": {
     "end_time": "2023-07-03T14:35:21.867752200Z",
     "start_time": "2023-07-03T14:35:21.847143200Z"
    }
   },
   "outputs": [],
   "source": [
    "def movie_recommend(movie):\n",
    "    index = new_df[new_df['title'] == movie].index[0]\n",
    "    distances = sorted(list(enumerate(similarity[index])),reverse=True,key = lambda x: x[1])\n",
    "    for i in distances[1:8]:\n",
    "\n",
    "\n",
    "      print(\"{} {}\".format(new_df.iloc[i[0]].title,new_df.iloc[i[0]].urls))"
   ]
  },
  {
   "cell_type": "code",
   "execution_count": 136,
   "metadata": {
    "colab": {
     "base_uri": "https://localhost:8080/"
    },
    "id": "4W7Zm0oKuDbR",
    "outputId": "1a7477ce-fd56-4797-c415-6646823d485a",
    "ExecuteTime": {
     "end_time": "2023-07-03T14:35:26.006644500Z",
     "start_time": "2023-07-03T14:35:25.972390400Z"
    }
   },
   "outputs": [
    {
     "name": "stdout",
     "output_type": "stream",
     "text": [
      "Aliens https://www./Aliens\n",
      "Aliens vs Predator: Requiem http://www.avp-r.com/\n",
      "Titan A.E. https://www./TitanA.E.\n",
      "Independence Day https://www./IndependenceDay\n",
      "Battle: Los Angeles http://www.battlela.com\n",
      "Meet Dave http://www.meetdavemovie.com/\n",
      "Predators https://www./Predators\n"
     ]
    }
   ],
   "source": [
    "movie_recommend(\"Avatar\")"
   ]
  },
  {
   "cell_type": "code",
   "execution_count": 137,
   "metadata": {
    "colab": {
     "base_uri": "https://localhost:8080/"
    },
    "id": "k5Yct7lIulAY",
    "outputId": "5aafaea4-ecb3-4fa3-c5e4-43ad2f3c13cf",
    "ExecuteTime": {
     "end_time": "2023-07-03T14:35:28.199380Z",
     "start_time": "2023-07-03T14:35:27.592362300Z"
    }
   },
   "outputs": [
    {
     "name": "stdout",
     "output_type": "stream",
     "text": [
      "Batman https://www./Batman\n",
      "Batman & Robin https://www./Batman&Robin\n",
      "The R.M. http://www.halestormentertainment.com/p_movies_details.asp?mID=jnlppmp8\n",
      "Batman Begins http://www2.warnerbros.com/batmanbegins/index.html\n",
      "Batman Returns https://www./BatmanReturns\n",
      "The Dark Knight http://thedarkknight.warnerbros.com/dvdsite/\n",
      "The Dark Knight Rises http://www.thedarkknightrises.com/\n"
     ]
    }
   ],
   "source": [
    "movie_recommend(\"Batman\")"
   ]
  },
  {
   "cell_type": "code",
   "execution_count": 138,
   "metadata": {
    "colab": {
     "base_uri": "https://localhost:8080/"
    },
    "id": "l7YQGgDlumAe",
    "outputId": "d84f032c-b835-4317-da71-5b8486473209",
    "ExecuteTime": {
     "end_time": "2023-07-03T14:35:28.485605200Z",
     "start_time": "2023-07-03T14:35:28.465630400Z"
    }
   },
   "outputs": [
    {
     "name": "stdout",
     "output_type": "stream",
     "text": [
      "Captain America: The Winter Soldier http://www.captainamericathewintersoldiermovie.com\n",
      "Bowling for Columbine http://www.bowlingforcolumbine.com/index.php\n",
      "Captain America: The First Avenger http://captainamerica.marvel.com/\n",
      "The Algerian http://thealgerianmovie.com/\n",
      "Team America: World Police http://www.teamamerica.com\n",
      "Beavis and Butt-Head Do America https://www./BeavisandButt-HeadDoAmerica\n",
      "Nothing But a Man https://www./NothingButaMan\n"
     ]
    }
   ],
   "source": [
    "movie_recommend(\"2016: Obama's America\")"
   ]
  },
  {
   "cell_type": "code",
   "execution_count": 139,
   "metadata": {
    "colab": {
     "base_uri": "https://localhost:8080/"
    },
    "id": "t_OWarjHKOMC",
    "outputId": "cee87e74-986d-4d21-a242-44533ea1cb61",
    "ExecuteTime": {
     "end_time": "2023-07-03T14:35:29.567904Z",
     "start_time": "2023-07-03T14:35:29.552790600Z"
    }
   },
   "outputs": [
    {
     "name": "stdout",
     "output_type": "stream",
     "text": [
      "Iron Man 3 http://marvel.com/ironman3\n",
      "Iron Man 2 http://www.ironmanmovie.com/\n",
      "Avengers: Age of Ultron http://marvel.com/movies/movie/193/avengers_age_of_ultron\n",
      "The Avengers http://marvel.com/avengers_movie/\n",
      "Captain America: Civil War http://marvel.com/captainamericapremiere\n",
      "X-Men https://www./X-Men\n",
      "X-Men Origins: Wolverine http://www.x-menorigins.com/\n"
     ]
    }
   ],
   "source": [
    "movie_recommend(\"Iron Man\")"
   ]
  },
  {
   "cell_type": "code",
   "execution_count": 140,
   "metadata": {
    "id": "Y3tBYbw-umNm",
    "ExecuteTime": {
     "end_time": "2023-07-03T14:35:30.805553900Z",
     "start_time": "2023-07-03T14:35:30.787621500Z"
    }
   },
   "outputs": [],
   "source": [
    "import pickle"
   ]
  },
  {
   "cell_type": "code",
   "execution_count": 141,
   "metadata": {
    "id": "95EBMH2cumat",
    "ExecuteTime": {
     "end_time": "2023-07-03T14:35:32.273973200Z",
     "start_time": "2023-07-03T14:35:31.788247Z"
    }
   },
   "outputs": [],
   "source": [
    "\n",
    "pickle.dump(new_df.to_dict(),open(\"movie_dictss.pkl\",\"wb\"))\n",
    "pickle.dump(similarity,open(\"similarity.pkl\",\"wb\"))"
   ]
  },
  {
   "cell_type": "code",
   "execution_count": 142,
   "metadata": {
    "colab": {
     "base_uri": "https://localhost:8080/"
    },
    "id": "sL9p9zW2umm_",
    "outputId": "9ce55a84-479f-4821-d0d2-4f2eac0343b5",
    "ExecuteTime": {
     "end_time": "2023-07-03T14:35:33.553725700Z",
     "start_time": "2023-07-03T14:35:33.538401500Z"
    }
   },
   "outputs": [
    {
     "data": {
      "text/plain": "array(['Avatar', \"Pirates of the Caribbean: At World's End\", 'Spectre',\n       ..., 'Signed, Sealed, Delivered', 'Shanghai Calling',\n       'My Date with Drew'], dtype=object)"
     },
     "execution_count": 142,
     "metadata": {},
     "output_type": "execute_result"
    }
   ],
   "source": [
    "\n",
    "np.array(new_df[\"title\"])"
   ]
  },
  {
   "cell_type": "code",
   "execution_count": 133,
   "metadata": {
    "colab": {
     "base_uri": "https://localhost:8080/"
    },
    "id": "qp0P_fqQ5CVh",
    "outputId": "433b113e-69fb-4b1b-8d96-22d716b52f04",
    "ExecuteTime": {
     "end_time": "2023-07-03T14:35:08.974478800Z",
     "start_time": "2023-07-03T14:35:08.965183Z"
    }
   },
   "outputs": [],
   "source": [
    "#!pip install pyngrok"
   ]
  },
  {
   "cell_type": "code",
   "execution_count": 134,
   "metadata": {
    "colab": {
     "base_uri": "https://localhost:8080/"
    },
    "id": "a3GopnezumzV",
    "outputId": "5294cd4a-bf69-4b17-e1e6-53f843c028f0",
    "ExecuteTime": {
     "end_time": "2023-07-03T14:35:08.980623400Z",
     "start_time": "2023-07-03T14:35:08.975475100Z"
    }
   },
   "outputs": [],
   "source": [
    "#!streamlit run app.py & npx localtunnel --port[80]"
   ]
  },
  {
   "cell_type": "code",
   "execution_count": 134,
   "metadata": {
    "colab": {
     "base_uri": "https://localhost:8080/"
    },
    "id": "4mnKZQi55jlS",
    "outputId": "a2fdf409-5a8c-4f83-bc81-921519ef5677",
    "ExecuteTime": {
     "end_time": "2023-07-03T14:35:09.009383800Z",
     "start_time": "2023-07-03T14:35:08.982561400Z"
    }
   },
   "outputs": [],
   "source": []
  }
 ],
 "metadata": {
  "colab": {
   "provenance": []
  },
  "kernelspec": {
   "display_name": "Python 3 (ipykernel)",
   "language": "python",
   "name": "python3"
  },
  "language_info": {
   "codemirror_mode": {
    "name": "ipython",
    "version": 3
   },
   "file_extension": ".py",
   "mimetype": "text/x-python",
   "name": "python",
   "nbconvert_exporter": "python",
   "pygments_lexer": "ipython3",
   "version": "3.11.4"
  }
 },
 "nbformat": 4,
 "nbformat_minor": 1
}
